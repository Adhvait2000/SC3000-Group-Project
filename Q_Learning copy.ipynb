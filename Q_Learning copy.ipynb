{
 "cells": [
  {
   "cell_type": "code",
   "execution_count": 33,
   "id": "0dbe417f",
   "metadata": {},
   "outputs": [],
   "source": [
    "import gym\n",
    "from gym import logger as gymlogger\n",
    "from gym.wrappers import RecordVideo\n",
    "gymlogger.set_level(40) #error only\n",
    "#import tensorflow as tf\n",
    "import numpy as np\n",
    "import random\n",
    "import matplotlib\n",
    "import matplotlib.pyplot as plt\n",
    "%matplotlib inline\n",
    "import math\n",
    "import glob\n",
    "import io\n",
    "import base64\n",
    "from IPython.display import HTML\n",
    "from IPython import display as ipythondisplay\n",
    "\n",
    "def show_video():\n",
    "  mp4list = glob.glob('video/*.mp4')\n",
    "  if len(mp4list) > 0:\n",
    "    mp4 = mp4list[0]\n",
    "    video = io.open(mp4, 'r+b').read()\n",
    "    encoded = base64.b64encode(video)\n",
    "    ipythondisplay.display(HTML(data='''<video alt=\"test\" autoplay \n",
    "                loop controls style=\"height: 400px;\">\n",
    "                <source src=\"data:video/mp4;base64,{0}\" type=\"video/mp4\" />\n",
    "             </video>'''.format(encoded.decode('ascii'))))\n",
    "  else: \n",
    "    print(\"Could not find video\")"
   ]
  },
  {
   "cell_type": "code",
   "execution_count": 34,
   "id": "a0fa94e0",
   "metadata": {},
   "outputs": [],
   "source": [
    "#Making the environment\n",
    "env = gym.make(\"CartPole-v1\")"
   ]
  },
  {
   "cell_type": "markdown",
   "id": "6e06b072",
   "metadata": {},
   "source": [
    "## Initialize variables"
   ]
  },
  {
   "cell_type": "code",
   "execution_count": 35,
   "id": "ea4876c0",
   "metadata": {
    "scrolled": true
   },
   "outputs": [
    {
     "name": "stdout",
     "output_type": "stream",
     "text": [
      "[ 0.00360035 -0.15824363  0.00600953  0.3338028 ]\n",
      "0.01\n"
     ]
    }
   ],
   "source": [
    "#Defining Hypermeters\n",
    "#LEARNING_RATE = 0.1\n",
    "LEARNING_RATE = 0.1\n",
    "\n",
    "DISCOUNT = 0.99 #instead of 0.95\n",
    "EPISODES = 60000\n",
    "total = 0\n",
    "total_reward = 0\n",
    "\n",
    "#0.25, 0.25, 0.01, 0.1\n",
    "# Define observation and window size\n",
    "Observation = [30, 30, 50, 50]\n",
    "np_array_win_size = np.array([0.5, 0.5, 0.05, 0.5])\n",
    "\n",
    "epsilon = 0.9\n",
    "epsilon_decay = 0.995\n",
    "epsilon_min = 0.1\n",
    "epsilon_max = 0.95\n",
    "\n",
    "prev_mean = 0\n",
    "obs = env.reset()\n",
    "\n",
    "\n",
    "new_env = env.step(0)[0]\n",
    "print(new_env)\n",
    "print(round(new_env[2], 2))"
   ]
  },
  {
   "cell_type": "markdown",
   "id": "f5636e52",
   "metadata": {},
   "source": [
    "## Create Q table"
   ]
  },
  {
   "cell_type": "code",
   "execution_count": 36,
   "id": "2bd47369",
   "metadata": {},
   "outputs": [
    {
     "data": {
      "text/plain": [
       "(30, 30, 50, 50, 2)"
      ]
     },
     "execution_count": 36,
     "metadata": {},
     "output_type": "execute_result"
    }
   ],
   "source": [
    "#Creating the q table\n",
    "q_table = np.zeros((Observation + [env.action_space.n]))\n",
    "q_table.shape"
   ]
  },
  {
   "cell_type": "markdown",
   "id": "4b370e01",
   "metadata": {},
   "source": [
    "## Getting discrete state"
   ]
  },
  {
   "cell_type": "code",
   "execution_count": 37,
   "id": "a5a72593",
   "metadata": {},
   "outputs": [
    {
     "name": "stdout",
     "output_type": "stream",
     "text": [
      "(23, 6, 9, 11)\n"
     ]
    }
   ],
   "source": [
    "#defining the discrete state\n",
    "def get_discrete_state(state):\n",
    "    \n",
    "    #Given a state, round to the nearest 0.25\n",
    "    #divide by the window size to find which bucket it belongs to\n",
    "    #discrete_state =np.array([np.round(state[0]*4)/4, np.round(state[1] *4) /4, np.round(state[2], 1) ,np.round(state[3], 1)])\n",
    "    #discrete_state =np.array([np.round(state[0]*2)/2, np.round(state[1] *2) /2, np.round(state[2]* 2)/2 ,np.round(state[3]* 2)/2])\n",
    "    discrete_state = state/np_array_win_size+ np.array([15,10,1,10])\n",
    "    #discrete_state = (discrete_state/np_array_win_size)\n",
    "    #print(discrete_state)\n",
    "    return tuple(discrete_state.astype(int))\n",
    "\n",
    "\n",
    "print(get_discrete_state([4, -2, 0.418, 0.63751878]))"
   ]
  },
  {
   "cell_type": "markdown",
   "id": "61f1e4e8",
   "metadata": {},
   "source": [
    "## Running"
   ]
  },
  {
   "cell_type": "code",
   "execution_count": null,
   "id": "0d932b6b",
   "metadata": {},
   "outputs": [
    {
     "name": "stdout",
     "output_type": "stream",
     "text": [
      "Episode: 0\n",
      "Mean Reward: 0.009\n",
      "Mean Reward: 43.488\n",
      "Episode: 2000\n",
      "Mean Reward: 108.654\n",
      "Mean Reward: 139.54\n",
      "Episode: 4000\n",
      "Mean Reward: 160.27\n",
      "Mean Reward: 176.257\n",
      "Episode: 6000\n",
      "Mean Reward: 186.595\n",
      "Mean Reward: 193.78\n",
      "Episode: 8000\n",
      "Mean Reward: 182.405\n",
      "Mean Reward: 217.148\n",
      "Episode: 10000\n",
      "Mean Reward: 209.515\n",
      "Mean Reward: 224.653\n",
      "Episode: 12000\n",
      "Mean Reward: 225.661\n",
      "Mean Reward: 240.708\n",
      "Episode: 14000\n",
      "Mean Reward: 234.627\n",
      "Mean Reward: 246.516\n",
      "Episode: 16000\n",
      "Mean Reward: 251.056\n",
      "Mean Reward: 240.15\n",
      "Episode: 18000\n",
      "Mean Reward: 267.824\n",
      "Mean Reward: 281.916\n",
      "Episode: 20000\n",
      "Mean Reward: 268.825\n",
      "Mean Reward: 264.623\n",
      "Episode: 22000\n",
      "Mean Reward: 278.499\n",
      "Mean Reward: 252.944\n",
      "Episode: 24000\n",
      "Mean Reward: 266.07\n",
      "Mean Reward: 263.237\n",
      "Episode: 26000\n",
      "Mean Reward: 274.73\n",
      "Mean Reward: 286.286\n",
      "Episode: 28000\n",
      "Mean Reward: 284.305\n",
      "Mean Reward: 271.51\n",
      "Episode: 30000\n",
      "Mean Reward: 262.631\n",
      "Mean Reward: 271.519\n",
      "Episode: 32000\n",
      "Mean Reward: 285.039\n",
      "Mean Reward: 268.826\n",
      "Episode: 34000\n",
      "Mean Reward: 260.117\n",
      "Mean Reward: 318.74\n",
      "Episode: 36000\n",
      "Mean Reward: 293.664\n",
      "Mean Reward: 294.4\n",
      "Episode: 38000\n",
      "Mean Reward: 289.359\n",
      "Mean Reward: 304.187\n",
      "Episode: 40000\n",
      "Mean Reward: 294.136\n",
      "Mean Reward: 286.941\n",
      "Episode: 42000\n",
      "Mean Reward: 274.68\n",
      "Mean Reward: 270.492\n",
      "Episode: 44000\n",
      "Mean Reward: 304.815\n"
     ]
    }
   ],
   "source": [
    "#Training the agent\n",
    "for episode in range(EPISODES):\n",
    "\n",
    "    discrete_state = get_discrete_state(env.reset()[0])\n",
    "    done = False\n",
    "    episode_reward = 0\n",
    "    episode_length = 0\n",
    "    \n",
    "    # update every 2000 episodes\n",
    "    if episode % 2000 == 0:\n",
    "        print(\"Episode: \" + str(episode))\n",
    "\n",
    "    while not done:\n",
    "        \n",
    "        # always get max for now\n",
    "        if np.random.random() < epsilon:\n",
    "            action = np.argmax(q_table[discrete_state])\n",
    "        else:\n",
    "            action = np.random.randint(0, env.action_space.n)\n",
    "        \n",
    "        new_env = env.step(action)\n",
    "        new_state = new_env[0]\n",
    "        reward = new_env[1]\n",
    "        done = new_env[2]\n",
    "        episode_reward += reward\n",
    "        episode_length += 1\n",
    "        \n",
    "        new_discrete_state = get_discrete_state(new_state)\n",
    "\n",
    "        if not done:\n",
    "            max_future_q = np.max(q_table[new_discrete_state])\n",
    "            current_q = q_table[discrete_state + (action,)]\n",
    "            new_q = (1 - LEARNING_RATE) * current_q + LEARNING_RATE * (reward + DISCOUNT * max_future_q)\n",
    "            q_table[discrete_state + (action,)] = new_q\n",
    "\n",
    "        discrete_state = new_discrete_state\n",
    "        \n",
    "        # check termination conditions\n",
    "        if abs(new_state[0]) > 2.4 or abs(new_state[2]) > np.radians(12) or episode_length > 500:\n",
    "            done = True\n",
    "            \n",
    "    total_reward += episode_reward\n",
    "    \n",
    "    if episode % 1000 == 0:\n",
    "        mean_reward = total_reward / 1000\n",
    "        print(\"Mean Reward: \" + str(mean_reward))\n",
    "        if mean_reward > prev_mean:\n",
    "            epsilon *= epsilon_decay\n",
    "        else:\n",
    "            epsilon = max(epsilon_min, epsilon / epsilon_decay)\n",
    "        prev_mean = mean_reward\n",
    "        total_reward = 0\n",
    "\n",
    "env.close()\n"
   ]
  },
  {
   "cell_type": "code",
   "execution_count": null,
   "id": "55cb0036",
   "metadata": {},
   "outputs": [],
   "source": []
  },
  {
   "cell_type": "code",
   "execution_count": null,
   "id": "216b5cb3",
   "metadata": {},
   "outputs": [],
   "source": []
  }
 ],
 "metadata": {
  "kernelspec": {
   "display_name": "Python 3.11.2 64-bit",
   "language": "python",
   "name": "python3"
  },
  "language_info": {
   "codemirror_mode": {
    "name": "ipython",
    "version": 3
   },
   "file_extension": ".py",
   "mimetype": "text/x-python",
   "name": "python",
   "nbconvert_exporter": "python",
   "pygments_lexer": "ipython3",
   "version": "3.11.2"
  },
  "vscode": {
   "interpreter": {
    "hash": "b0fa6594d8f4cbf19f97940f81e996739fb7646882a419484c72d19e05852a7e"
   }
  }
 },
 "nbformat": 4,
 "nbformat_minor": 5
}
