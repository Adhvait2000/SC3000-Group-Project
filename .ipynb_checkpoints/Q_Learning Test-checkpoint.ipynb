{
 "cells": [
  {
   "cell_type": "code",
   "execution_count": 151,
   "id": "0dbe417f",
   "metadata": {},
   "outputs": [],
   "source": [
    "import gym\n",
    "from gym import logger as gymlogger\n",
    "from gym.wrappers import RecordVideo\n",
    "gymlogger.set_level(40) #error only\n",
    "#import tensorflow as tf\n",
    "import numpy as np\n",
    "import random\n",
    "import matplotlib\n",
    "import matplotlib.pyplot as plt\n",
    "%matplotlib inline\n",
    "import math\n",
    "import glob\n",
    "import io\n",
    "import base64\n",
    "from IPython.display import HTML\n",
    "from IPython import display as ipythondisplay\n",
    "\n",
    "def show_video():\n",
    "  mp4list = glob.glob('video/*.mp4')\n",
    "  if len(mp4list) > 0:\n",
    "    mp4 = mp4list[0]\n",
    "    video = io.open(mp4, 'r+b').read()\n",
    "    encoded = base64.b64encode(video)\n",
    "    ipythondisplay.display(HTML(data='''<video alt=\"test\" autoplay \n",
    "                loop controls style=\"height: 400px;\">\n",
    "                <source src=\"data:video/mp4;base64,{0}\" type=\"video/mp4\" />\n",
    "             </video>'''.format(encoded.decode('ascii'))))\n",
    "  else: \n",
    "    print(\"Could not find video\")"
   ]
  },
  {
   "cell_type": "code",
   "execution_count": 152,
   "id": "a0fa94e0",
   "metadata": {},
   "outputs": [],
   "source": [
    "#Making the environment\n",
    "env = gym.make(\"CartPole-v1\")"
   ]
  },
  {
   "cell_type": "markdown",
   "id": "6e06b072",
   "metadata": {},
   "source": [
    "## Initialize variables"
   ]
  },
  {
   "cell_type": "code",
   "execution_count": 153,
   "id": "ea4876c0",
   "metadata": {
    "scrolled": true
   },
   "outputs": [
    {
     "name": "stdout",
     "output_type": "stream",
     "text": [
      "[ 0.0315145  -0.20143087  0.00093971  0.30859235]\n",
      "0.0\n"
     ]
    }
   ],
   "source": [
    "#Defining Hypermeters\n",
    "#LEARNING_RATE = 0.1\n",
    "LEARNING_RATE = 0.2\n",
    "\n",
    "DISCOUNT = 0.999 #instead of 0.95\n",
    "EPISODES = 60000\n",
    "total = 0\n",
    "total_reward = 0\n",
    "\n",
    "#0.25, 0.25, 0.01, 0.1\n",
    "# Define observation and window size\n",
    "Observation = [40, 40, 50, 50]\n",
    "np_array_win_size = np.array([0.25, 0.25, 0.05, 0.5])\n",
    "\n",
    "epsilon = 0.99\n",
    "epsilon_decay = (epsilon -0.1)/5000\n",
    "epsilon_min = 0.1\n",
    "epsilon_max = 0.95\n",
    "\n",
    "prev_mean = 0\n",
    "obs = env.reset()\n",
    "\n",
    "rewardArr = []\n",
    "\n",
    "new_env = env.step(0)[0]\n",
    "print(new_env)\n",
    "print(round(new_env[2], 2))"
   ]
  },
  {
   "cell_type": "markdown",
   "id": "f5636e52",
   "metadata": {},
   "source": [
    "## Create Q table"
   ]
  },
  {
   "cell_type": "code",
   "execution_count": 154,
   "id": "2bd47369",
   "metadata": {},
   "outputs": [
    {
     "data": {
      "text/plain": [
       "(40, 40, 50, 50, 2)"
      ]
     },
     "execution_count": 154,
     "metadata": {},
     "output_type": "execute_result"
    }
   ],
   "source": [
    "#Creating the q table\n",
    "q_table = np.zeros((Observation + [env.action_space.n]))\n",
    "q_table.shape"
   ]
  },
  {
   "cell_type": "markdown",
   "id": "4b370e01",
   "metadata": {},
   "source": [
    "## Getting discrete state"
   ]
  },
  {
   "cell_type": "code",
   "execution_count": 155,
   "id": "a5a72593",
   "metadata": {},
   "outputs": [
    {
     "name": "stdout",
     "output_type": "stream",
     "text": [
      "(31, 2, 9, 11)\n"
     ]
    }
   ],
   "source": [
    "#defining the discrete state\n",
    "def get_discrete_state(state):\n",
    "    \n",
    "    #Given a state, round to the nearest 0.25\n",
    "    #divide by the window size to find which bucket it belongs to\n",
    "    #discrete_state =np.array([np.round(state[0]*4)/4, np.round(state[1] *4) /4, np.round(state[2], 1) ,np.round(state[3], 1)])\n",
    "    #discrete_state =np.array([np.round(state[0]*2)/2, np.round(state[1] *2) /2, np.round(state[2]* 2)/2 ,np.round(state[3]* 2)/2])\n",
    "    discrete_state = state/np_array_win_size+ np.array([15,10,1,10])\n",
    "    #discrete_state = (discrete_state/np_array_win_size)\n",
    "    #print(discrete_state)\n",
    "    return tuple(discrete_state.astype(int))\n",
    "\n",
    "\n",
    "print(get_discrete_state([4, -2, 0.418, 0.63751878]))"
   ]
  },
  {
   "cell_type": "markdown",
   "id": "61f1e4e8",
   "metadata": {},
   "source": [
    "## Running"
   ]
  },
  {
   "cell_type": "code",
   "execution_count": 156,
   "id": "0d932b6b",
   "metadata": {},
   "outputs": [
    {
     "name": "stdout",
     "output_type": "stream",
     "text": [
      "Episode: 0\n",
      "Epsilon: 0.989822\n",
      "Mean Reward: 0.022\n",
      "Epsilon: 0.8118219999999885\n",
      "Mean Reward: 26.027\n",
      "Episode: 2000\n",
      "Epsilon: 0.633821999999977\n",
      "Mean Reward: 40.097\n",
      "Epsilon: 0.45582199999996553\n",
      "Mean Reward: 62.667\n",
      "Episode: 4000\n",
      "Epsilon: 0.27782199999995405\n",
      "Mean Reward: 88.269\n",
      "Epsilon: 0.09982199999994454\n",
      "Mean Reward: 118.687\n",
      "Episode: 6000\n",
      "Epsilon: 0.0798859999999448\n",
      "Mean Reward: 138.362\n",
      "Epsilon: 0.0798859999999448\n",
      "Mean Reward: 145.691\n",
      "Episode: 8000\n",
      "Epsilon: 0.0798859999999448\n",
      "Mean Reward: 148.435\n",
      "Epsilon: 0.0798859999999448\n",
      "Mean Reward: 157.507\n",
      "Episode: 10000\n",
      "Epsilon: 0.0798859999999448\n",
      "Mean Reward: 157.577\n",
      "Epsilon: 0.0798859999999448\n",
      "Mean Reward: 158.303\n",
      "Episode: 12000\n",
      "Epsilon: 0.0798859999999448\n",
      "Mean Reward: 153.215\n",
      "Epsilon: 0.0798859999999448\n",
      "Mean Reward: 160.48\n",
      "Episode: 14000\n",
      "Epsilon: 0.0798859999999448\n",
      "Mean Reward: 152.191\n",
      "Epsilon: 0.0798859999999448\n",
      "Mean Reward: 176.213\n",
      "Episode: 16000\n",
      "Epsilon: 0.0798859999999448\n",
      "Mean Reward: 168.357\n",
      "Epsilon: 0.0798859999999448\n",
      "Mean Reward: 169.791\n",
      "Episode: 18000\n",
      "Epsilon: 0.0798859999999448\n",
      "Mean Reward: 178.619\n",
      "Epsilon: 0.0798859999999448\n",
      "Mean Reward: 158.677\n",
      "Episode: 20000\n",
      "Epsilon: 0.0798859999999448\n",
      "Mean Reward: 170.807\n",
      "Epsilon: 0.0798859999999448\n",
      "Mean Reward: 172.383\n",
      "Episode: 22000\n",
      "Epsilon: 0.0798859999999448\n",
      "Mean Reward: 171.75\n",
      "Epsilon: 0.0798859999999448\n",
      "Mean Reward: 178.37\n",
      "Episode: 24000\n",
      "Epsilon: 0.0798859999999448\n",
      "Mean Reward: 164.133\n",
      "Epsilon: 0.0798859999999448\n",
      "Mean Reward: 178.376\n",
      "Episode: 26000\n",
      "Epsilon: 0.0798859999999448\n",
      "Mean Reward: 173.453\n",
      "Epsilon: 0.0798859999999448\n",
      "Mean Reward: 189.845\n",
      "Episode: 28000\n",
      "Epsilon: 0.0798859999999448\n",
      "Mean Reward: 200.805\n",
      "Epsilon: 0.0798859999999448\n",
      "Mean Reward: 180.006\n",
      "Episode: 30000\n",
      "Epsilon: 0.0798859999999448\n",
      "Mean Reward: 193.433\n",
      "Epsilon: 0.0798859999999448\n",
      "Mean Reward: 203.941\n",
      "Episode: 32000\n",
      "Epsilon: 0.0798859999999448\n",
      "Mean Reward: 229.859\n",
      "Epsilon: 0.0798859999999448\n",
      "Mean Reward: 212.436\n",
      "Episode: 34000\n",
      "Epsilon: 0.0798859999999448\n",
      "Mean Reward: 200.644\n",
      "Epsilon: 0.0798859999999448\n",
      "Mean Reward: 233.426\n",
      "Episode: 36000\n",
      "Epsilon: 0.0798859999999448\n",
      "Mean Reward: 248.386\n",
      "Epsilon: 0.0798859999999448\n",
      "Mean Reward: 242.397\n",
      "Episode: 38000\n",
      "Epsilon: 0.0798859999999448\n",
      "Mean Reward: 252.834\n",
      "Epsilon: 0.0798859999999448\n",
      "Mean Reward: 288.662\n",
      "Episode: 40000\n",
      "Epsilon: 0.0798859999999448\n",
      "Mean Reward: 281.399\n",
      "Epsilon: 0.0798859999999448\n",
      "Mean Reward: 281.756\n",
      "Episode: 42000\n",
      "Epsilon: 0.0798859999999448\n",
      "Mean Reward: 372.767\n",
      "Epsilon: 0.0798859999999448\n",
      "Mean Reward: 359.44\n",
      "Episode: 44000\n",
      "Epsilon: 0.0798859999999448\n",
      "Mean Reward: 338.467\n",
      "Epsilon: 0.0798859999999448\n",
      "Mean Reward: 301.694\n",
      "Episode: 46000\n",
      "Epsilon: 0.0798859999999448\n",
      "Mean Reward: 280.702\n",
      "Epsilon: 0.0798859999999448\n",
      "Mean Reward: 332.454\n",
      "Episode: 48000\n",
      "Epsilon: 0.0798859999999448\n",
      "Mean Reward: 255.051\n",
      "Epsilon: 0.0798859999999448\n",
      "Mean Reward: 345.61\n",
      "Episode: 50000\n",
      "Epsilon: 0.0798859999999448\n",
      "Mean Reward: 362.014\n",
      "Epsilon: 0.0798859999999448\n",
      "Mean Reward: 331.238\n",
      "Episode: 52000\n",
      "Epsilon: 0.0798859999999448\n",
      "Mean Reward: 351.464\n",
      "Epsilon: 0.0798859999999448\n",
      "Mean Reward: 358.147\n",
      "Episode: 54000\n",
      "Epsilon: 0.0798859999999448\n",
      "Mean Reward: 294.266\n",
      "Epsilon: 0.0798859999999448\n",
      "Mean Reward: 417.137\n",
      "Episode: 56000\n",
      "Epsilon: 0.0798859999999448\n",
      "Mean Reward: 313.2\n",
      "Epsilon: 0.0798859999999448\n",
      "Mean Reward: 264.754\n",
      "Episode: 58000\n",
      "Epsilon: 0.0798859999999448\n",
      "Mean Reward: 356.836\n",
      "Epsilon: 0.0798859999999448\n",
      "Mean Reward: 447.326\n"
     ]
    }
   ],
   "source": [
    "#Training the agent\n",
    "for episode in range(EPISODES):\n",
    "    discrete_state = get_discrete_state(env.reset()[0])\n",
    "    done = False\n",
    "    episode_reward = 0\n",
    "    episode_length = 0\n",
    "    \n",
    "    # update every 2000 episodes\n",
    "    if episode % 2000 == 0:\n",
    "        print(\"Episode: \" + str(episode))\n",
    "\n",
    "    while not done:\n",
    "        \n",
    "        # always get max for now\n",
    "        if np.random.random() > epsilon:\n",
    "            action = np.argmax(q_table[discrete_state])\n",
    "        else:\n",
    "            action = np.random.randint(0, env.action_space.n)\n",
    "        \n",
    "        new_env = env.step(action)\n",
    "        new_state = new_env[0]\n",
    "        reward = new_env[1]\n",
    "        done = new_env[2]\n",
    "        episode_reward += reward\n",
    "        episode_length += 1\n",
    "        \n",
    "        new_discrete_state = get_discrete_state(new_state)\n",
    "        max_future_q = np.max(q_table[new_discrete_state])\n",
    "        current_q = q_table[discrete_state + (action,)]\n",
    "\n",
    "        # Reward shaping\n",
    "        if done:\n",
    "            if episode_length >= 195:\n",
    "                reward = 1\n",
    "            else:\n",
    "                reward = -1\n",
    "        else:\n",
    "            reward = 0.1\n",
    "        \n",
    "        new_q = (1 - LEARNING_RATE) * current_q + LEARNING_RATE * (reward + DISCOUNT * max_future_q)\n",
    "        q_table[discrete_state + (action,)] = new_q\n",
    "\n",
    "        discrete_state = new_discrete_state\n",
    "        \n",
    "        # check termination conditions\n",
    "#         if abs(new_state[0]) > 2.4 or abs(new_state[2]) > np.radians(12) or episode_length > 500:\n",
    "#             done = True\n",
    "            \n",
    "    total_reward += episode_reward\n",
    "    rewardArr.append(episode_reward)\n",
    "    if epsilon > 0.08:\n",
    "        epsilon -= epsilon_decay\n",
    "    if episode % 1000 == 0:\n",
    "        print(\"Epsilon: \" + str(epsilon))\n",
    "        mean_reward = total_reward / 1000\n",
    "        print(\"Mean Reward: \" + str(mean_reward))\n",
    "    \n",
    "        prev_mean = mean_reward\n",
    "        total_reward = 0\n",
    "\n",
    "env.close()\n"
   ]
  },
  {
   "cell_type": "code",
   "execution_count": 157,
   "id": "55cb0036",
   "metadata": {},
   "outputs": [
    {
     "name": "stdout",
     "output_type": "stream",
     "text": [
      "Average cumulative reward:225.63108333333332\n",
      "Is my agent good enough? True\n"
     ]
    },
    {
     "data": {
      "image/png": "[encoded data removed]",
      "text/plain": [
       "<Figure size 432x288 with 1 Axes>"
      ]
     },
     "metadata": {
      "needs_background": "light"
     },
     "output_type": "display_data"
    }
   ],
   "source": [
    "plt.plot(rewardArr)\n",
    "print(\"Average cumulative reward:\" + str(np.mean(rewardArr)))\n",
    "print(\"Is my agent good enough? \" + str(np.mean(rewardArr) > 195))\n",
    "\n",
    "plt.title('Cumulative reward for each episode')\n",
    "plt.ylabel('Cumulative reward')\n",
    "plt.xlabel('episode')\n",
    "\n",
    "plt.show()"
   ]
  },
  {
   "cell_type": "code",
   "execution_count": 158,
   "id": "216b5cb3",
   "metadata": {},
   "outputs": [
    {
     "name": "stdout",
     "output_type": "stream",
     "text": [
      "Could not find video\n",
      "217.0\n"
     ]
    }
   ],
   "source": [
    "episode_reward = 0\n",
    "\n",
    "env = RecordVideo(gym.make(\"CartPole-v1\"), \"./video\")\n",
    "observation = env.reset()\n",
    "discrete_state = get_discrete_state(observation[0])\n",
    "\n",
    "done = False\n",
    "while not done:\n",
    "    env.render()\n",
    "    action = np.argmax(q_table[discrete_state])\n",
    "    new_env = env.step(action)\n",
    "    new_state = new_env[0]\n",
    "    reward = new_env[1]\n",
    "    done = new_env[2]\n",
    "    episode_reward += reward\n",
    "    \n",
    "    new_discrete_state = get_discrete_state(new_state)\n",
    "    discrete_state = new_discrete_state\n",
    "\n",
    "    if done:\n",
    "        observation = env.reset()\n",
    "        discrete_state = get_discrete_state(observation[0])\n",
    "\n",
    "env.close()\n",
    "show_video()\n",
    "print(episode_reward)"
   ]
  },
  {
   "cell_type": "code",
   "execution_count": null,
   "id": "7bb4ffae",
   "metadata": {},
   "outputs": [],
   "source": []
  },
  {
   "cell_type": "code",
   "execution_count": null,
   "id": "1bc04140",
   "metadata": {},
   "outputs": [],
   "source": []
  }
 ],
 "metadata": {
  "kernelspec": {
   "display_name": "Python 3 (ipykernel)",
   "language": "python",
   "name": "python3"
  },
  "language_info": {
   "codemirror_mode": {
    "name": "ipython",
    "version": 3
   },
   "file_extension": ".py",
   "mimetype": "text/x-python",
   "name": "python",
   "nbconvert_exporter": "python",
   "pygments_lexer": "ipython3",
   "version": "3.9.7"
  },
  "vscode": {
   "interpreter": {
    "hash": "b0fa6594d8f4cbf19f97940f81e996739fb7646882a419484c72d19e05852a7e"
   }
  }
 },
 "nbformat": 4,
 "nbformat_minor": 5
}
