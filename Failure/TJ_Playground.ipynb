{
 "cells": [
  {
   "cell_type": "code",
   "execution_count": 2,
   "outputs": [],
   "source": [
    "### Importing libraries\n",
    "\n",
    "import pickle\n",
    "import gym\n",
    "from gym import logger as gymlogger\n",
    "from gym.wrappers import RecordVideo\n",
    "gymlogger.set_level(40) #error only\n",
    "import tensorflow as tf\n",
    "import numpy as np\n",
    "import random\n",
    "import matplotlib\n",
    "import matplotlib.pyplot as plt\n",
    "%matplotlib inline\n",
    "import math\n",
    "import glob\n",
    "import io\n",
    "import base64\n",
    "from IPython.display import HTML\n",
    "from IPython import display as ipythondisplay\n",
    "\n",
    "### Init video func\n",
    "def show_video():\n",
    "    mp4list = glob.glob('video/*.mp4')\n",
    "    if len(mp4list) > 0:\n",
    "        mp4 = mp4list[0]\n",
    "        video = io.open(mp4, 'r+b').read()\n",
    "        encoded = base64.b64encode(video)\n",
    "        ipythondisplay.display(HTML(data='''<video alt=\"test\" autoplay\n",
    "                loop controls style=\"height: 400px;\">\n",
    "                <source src=\"data:video/mp4;base64,{0}\" type=\"video/mp4\" />\n",
    "             </video>'''.format(encoded.decode('ascii'))))\n",
    "    else:\n",
    "        print(\"Could not find video\")\n",
    "\n",
    "### CREATING env\n",
    "env = gym.make(\"CartPole-v1\")"
   ],
   "metadata": {
    "collapsed": false
   }
  },
  {
   "cell_type": "markdown",
   "source": [
    "\n",
    " **Q-Learning Formula:** $ Q(s_{t}, a_{t}) = Q(s_{t}, a_{t}) + \\alpha[r_{t+1}+\\gamma\\,(max Q(s_{t+1}, a)-Q(s_{t}, a_{t})]$\n",
    "\n",
    "__Where:__\n",
    "Value of current state: $Q(s_{t}, a_{t})$\n",
    "Value of Future state: $Q(s_{t+1}, a)$\n",
    "Reward: $r_{t+1}$\n",
    "Learning rate: $\\alpha\\;\\epsilon\\;(0,1)$\n",
    "Discount: $\\gamma\\;\\epsilon\\;(0,1]$"
   ],
   "metadata": {
    "collapsed": false
   }
  },
  {
   "cell_type": "markdown",
   "source": [
    "# Testing an Agent"
   ],
   "metadata": {
    "collapsed": false
   }
  },
  {
   "cell_type": "code",
   "execution_count": 3,
   "outputs": [],
   "source": [
    "import agentV1\n",
    "\n",
    "agent = agentV1.QLearnAgentV1(maxEpisode=100)"
   ],
   "metadata": {
    "collapsed": false
   }
  },
  {
   "cell_type": "code",
   "execution_count": 6,
   "outputs": [
    {
     "name": "stdout",
     "output_type": "stream",
     "text": [
      "{0: 23.0, 1: 15.0, 2: 14.0, 3: 19.0, 4: 18.0, 5: 47.0, 6: 42.0, 7: 35.0, 8: 14.0, 9: 18.0, 10: 20.0, 11: 30.0, 12: 63.0, 13: 39.0, 14: 41.0, 15: 35.0, 16: 75.0, 17: 41.0, 18: 47.0, 19: 34.0, 20: 62.0, 21: 51.0, 22: 33.0, 23: 41.0, 24: 56.0, 25: 33.0, 26: 35.0, 27: 40.0, 28: 33.0, 29: 35.0, 30: 35.0, 31: 38.0, 32: 104.0, 33: 9.0, 34: 13.0, 35: 11.0, 36: 11.0, 37: 10.0, 38: 12.0, 39: 12.0, 40: 11.0, 41: 12.0, 42: 9.0, 43: 12.0, 44: 12.0, 45: 10.0, 46: 10.0, 47: 9.0, 48: 12.0, 49: 9.0, 50: 11.0, 51: 12.0, 52: 11.0, 53: 10.0, 54: 11.0, 55: 10.0, 56: 12.0, 57: 11.0, 58: 12.0, 59: 10.0, 60: 10.0, 61: 12.0, 62: 11.0, 63: 10.0, 64: 10.0, 65: 12.0, 66: 10.0, 67: 10.0, 68: 12.0, 69: 11.0, 70: 11.0, 71: 9.0, 72: 12.0, 73: 10.0, 74: 12.0, 75: 12.0, 76: 9.0, 77: 9.0, 78: 10.0, 79: 11.0, 80: 10.0, 81: 12.0, 82: 10.0, 83: 10.0, 84: 11.0, 85: 12.0, 86: 11.0, 87: 10.0, 88: 10.0, 89: 10.0, 90: 11.0, 91: 11.0, 92: 10.0, 93: 10.0, 94: 9.0, 95: 11.0, 96: 12.0, 97: 9.0, 98: 12.0, 99: 12.0}\n",
      "{0: [4.500658799733152, 10.524665871644775], 1: [6.592488523073897, 6.554220814984067], 2: [7.6476570158671535, 55.49647510891309], 3: [8.094017155163373, 7.286736370425748], 4: [8.173415879590502, 3133.4414962878213], 5: [0, 2.9991824293607863], 6: [0, 0], 7: [5.410941967685063, 5.466189954232501], 8: [8.314671890603725, 152.96652119983568], 9: [6.030673284310897, 49.41104609271504], 10: [7.253802811825949, 7.910279763730328], 11: [7.79335583467693, 3.6771219644473114]}\n"
     ]
    }
   ],
   "source": [
    "agent.run()"
   ],
   "metadata": {
    "collapsed": false
   }
  },
  {
   "cell_type": "code",
   "execution_count": 7,
   "outputs": [
    {
     "name": "stdout",
     "output_type": "stream",
     "text": [
      "{0: 23.0, 1: 15.0, 2: 14.0, 3: 19.0, 4: 18.0, 5: 47.0, 6: 42.0, 7: 35.0, 8: 14.0, 9: 18.0, 10: 20.0, 11: 30.0, 12: 63.0, 13: 39.0, 14: 41.0, 15: 35.0, 16: 75.0, 17: 41.0, 18: 47.0, 19: 34.0, 20: 62.0, 21: 51.0, 22: 33.0, 23: 41.0, 24: 56.0, 25: 33.0, 26: 35.0, 27: 40.0, 28: 33.0, 29: 35.0, 30: 35.0, 31: 38.0, 32: 104.0, 33: 9.0, 34: 13.0, 35: 11.0, 36: 11.0, 37: 10.0, 38: 12.0, 39: 12.0, 40: 11.0, 41: 12.0, 42: 9.0, 43: 12.0, 44: 12.0, 45: 10.0, 46: 10.0, 47: 9.0, 48: 12.0, 49: 9.0, 50: 11.0, 51: 12.0, 52: 11.0, 53: 10.0, 54: 11.0, 55: 10.0, 56: 12.0, 57: 11.0, 58: 12.0, 59: 10.0, 60: 10.0, 61: 12.0, 62: 11.0, 63: 10.0, 64: 10.0, 65: 12.0, 66: 10.0, 67: 10.0, 68: 12.0, 69: 11.0, 70: 11.0, 71: 9.0, 72: 12.0, 73: 10.0, 74: 12.0, 75: 12.0, 76: 9.0, 77: 9.0, 78: 10.0, 79: 11.0, 80: 10.0, 81: 12.0, 82: 10.0, 83: 10.0, 84: 11.0, 85: 12.0, 86: 11.0, 87: 10.0, 88: 10.0, 89: 10.0, 90: 11.0, 91: 11.0, 92: 10.0, 93: 10.0, 94: 9.0, 95: 11.0, 96: 12.0, 97: 9.0, 98: 12.0, 99: 12.0}\n",
      "{0: [4.500658799733152, 10.524665871644775], 1: [6.592488523073897, 6.554220814984067], 2: [7.6476570158671535, 55.49647510891309], 3: [8.094017155163373, 7.286736370425748], 4: [8.173415879590502, 3133.4414962878213], 5: [0, 2.9991824293607863], 6: [0, 0], 7: [5.410941967685063, 5.466189954232501], 8: [8.314671890603725, 152.96652119983568], 9: [6.030673284310897, 49.41104609271504], 10: [7.253802811825949, 7.910279763730328], 11: [7.79335583467693, 3.6771219644473114]}\n"
     ]
    }
   ],
   "source": [
    "agent.run()"
   ],
   "metadata": {
    "collapsed": false
   }
  },
  {
   "cell_type": "code",
   "execution_count": null,
   "outputs": [],
   "source": [],
   "metadata": {
    "collapsed": false
   }
  }
 ],
 "metadata": {
  "kernelspec": {
   "display_name": "Python 3",
   "language": "python",
   "name": "python3"
  },
  "language_info": {
   "codemirror_mode": {
    "name": "ipython",
    "version": 2
   },
   "file_extension": ".py",
   "mimetype": "text/x-python",
   "name": "python",
   "nbconvert_exporter": "python",
   "pygments_lexer": "ipython2",
   "version": "2.7.6"
  }
 },
 "nbformat": 4,
 "nbformat_minor": 0
}
