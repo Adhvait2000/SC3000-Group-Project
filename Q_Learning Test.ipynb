{
 "cells": [
  {
   "cell_type": "code",
   "execution_count": 78,
   "id": "0dbe417f",
   "metadata": {},
   "outputs": [],
   "source": [
    "import gym\n",
    "from gym import logger as gymlogger\n",
    "from gym.wrappers import RecordVideo\n",
    "gymlogger.set_level(40) #error only\n",
    "#import tensorflow as tf\n",
    "import numpy as np\n",
    "import random\n",
    "import matplotlib\n",
    "import matplotlib.pyplot as plt\n",
    "%matplotlib inline\n",
    "import math\n",
    "import glob\n",
    "import io\n",
    "import base64\n",
    "from IPython.display import HTML\n",
    "from IPython import display as ipythondisplay\n",
    "\n",
    "def show_video():\n",
    "  mp4list = glob.glob('video/*.mp4')\n",
    "  if len(mp4list) > 0:\n",
    "    mp4 = mp4list[0]\n",
    "    video = io.open(mp4, 'r+b').read()\n",
    "    encoded = base64.b64encode(video)\n",
    "    ipythondisplay.display(HTML(data='''<video alt=\"test\" autoplay \n",
    "                loop controls style=\"height: 400px;\">\n",
    "                <source src=\"data:video/mp4;base64,{0}\" type=\"video/mp4\" />\n",
    "             </video>'''.format(encoded.decode('ascii'))))\n",
    "  else: \n",
    "    print(\"Could not find video\")"
   ]
  },
  {
   "cell_type": "code",
   "execution_count": 79,
   "id": "a0fa94e0",
   "metadata": {},
   "outputs": [],
   "source": [
    "#Making the environment\n",
    "env = gym.make(\"CartPole-v1\")"
   ]
  },
  {
   "cell_type": "markdown",
   "id": "6e06b072",
   "metadata": {},
   "source": [
    "## Initialize variables"
   ]
  },
  {
   "cell_type": "code",
   "execution_count": 80,
   "id": "ea4876c0",
   "metadata": {
    "scrolled": true
   },
   "outputs": [
    {
     "name": "stdout",
     "output_type": "stream",
     "text": [
      "[ 0.00784012 -0.15168767  0.01494143  0.26440138]\n",
      "0.01\n"
     ]
    }
   ],
   "source": [
    "#Defining Hypermeters\n",
    "#LEARNING_RATE = 0.1\n",
    "LEARNING_RATE = 0.2\n",
    "\n",
    "DISCOUNT = 0.999 #instead of 0.95\n",
    "EPISODES = 60000\n",
    "total = 0\n",
    "total_reward = 0\n",
    "\n",
    "#0.25, 0.25, 0.01, 0.1\n",
    "# Define observation and window size\n",
    "Observation = [40, 40, 50, 50]\n",
    "np_array_win_size = np.array([0.25, 0.25, 0.05, 0.5])\n",
    "\n",
    "epsilon = 0.99\n",
    "epsilon_decay = (epsilon -0.1)/12500\n",
    "epsilon_min = 0.1\n",
    "epsilon_max = 0.95\n",
    "\n",
    "prev_mean = 0\n",
    "obs = env.reset()\n",
    "\n",
    "rewardArr = []\n",
    "\n",
    "new_env = env.step(0)[0]\n",
    "print(new_env)\n",
    "print(round(new_env[2], 2))"
   ]
  },
  {
   "cell_type": "markdown",
   "id": "f5636e52",
   "metadata": {},
   "source": [
    "## Create Q table"
   ]
  },
  {
   "cell_type": "code",
   "execution_count": 81,
   "id": "2bd47369",
   "metadata": {},
   "outputs": [
    {
     "data": {
      "text/plain": [
       "(40, 40, 50, 50, 2)"
      ]
     },
     "execution_count": 81,
     "metadata": {},
     "output_type": "execute_result"
    }
   ],
   "source": [
    "#Creating the q table\n",
    "q_table = np.zeros((Observation + [env.action_space.n]))\n",
    "q_table.shape"
   ]
  },
  {
   "cell_type": "markdown",
   "id": "4b370e01",
   "metadata": {},
   "source": [
    "## Getting discrete state"
   ]
  },
  {
   "cell_type": "code",
   "execution_count": 82,
   "id": "a5a72593",
   "metadata": {},
   "outputs": [
    {
     "name": "stdout",
     "output_type": "stream",
     "text": [
      "(31, 2, 9, 11)\n"
     ]
    }
   ],
   "source": [
    "#defining the discrete state\n",
    "def get_discrete_state(state):\n",
    "    \n",
    "    #Given a state, round to the nearest 0.25\n",
    "    #divide by the window size to find which bucket it belongs to\n",
    "    #discrete_state =np.array([np.round(state[0]*4)/4, np.round(state[1] *4) /4, np.round(state[2], 1) ,np.round(state[3], 1)])\n",
    "    #discrete_state =np.array([np.round(state[0]*2)/2, np.round(state[1] *2) /2, np.round(state[2]* 2)/2 ,np.round(state[3]* 2)/2])\n",
    "    discrete_state = state/np_array_win_size+ np.array([15,10,1,10])\n",
    "    #discrete_state = (discrete_state/np_array_win_size)\n",
    "    #print(discrete_state)\n",
    "    return tuple(discrete_state.astype(int))\n",
    "\n",
    "\n",
    "print(get_discrete_state([4, -2, 0.418, 0.63751878]))"
   ]
  },
  {
   "cell_type": "markdown",
   "id": "61f1e4e8",
   "metadata": {},
   "source": [
    "## Running"
   ]
  },
  {
   "cell_type": "code",
   "execution_count": 83,
   "id": "0d932b6b",
   "metadata": {},
   "outputs": [
    {
     "name": "stdout",
     "output_type": "stream",
     "text": [
      "Episode: 0\n",
      "Epsilon: 0.9899287999999999\n",
      "Mean Reward: 0.024\n",
      "Epsilon: 0.9187287999999509\n",
      "Mean Reward: 24.219\n",
      "Episode: 2000\n",
      "Epsilon: 0.8475287999999019\n",
      "Mean Reward: 26.411\n",
      "Epsilon: 0.7763287999998529\n",
      "Mean Reward: 33.214\n",
      "Episode: 4000\n",
      "Epsilon: 0.7051287999998039\n",
      "Mean Reward: 39.925\n",
      "Epsilon: 0.6339287999997549\n",
      "Mean Reward: 46.941\n",
      "Episode: 6000\n",
      "Epsilon: 0.5627287999997059\n",
      "Mean Reward: 55.986\n",
      "Epsilon: 0.49152879999966353\n",
      "Mean Reward: 68.842\n",
      "Episode: 8000\n",
      "Epsilon: 0.42032879999967004\n",
      "Mean Reward: 81.857\n",
      "Epsilon: 0.34912879999967655\n",
      "Mean Reward: 91.808\n",
      "Episode: 10000\n",
      "Epsilon: 0.27792879999968306\n",
      "Mean Reward: 108.978\n",
      "Epsilon: 0.20672879999968957\n",
      "Mean Reward: 117.365\n",
      "Episode: 12000\n",
      "Epsilon: 0.13552879999969608\n",
      "Mean Reward: 145.188\n",
      "Epsilon: 0.07999279999970116\n",
      "Mean Reward: 146.999\n",
      "Episode: 14000\n",
      "Epsilon: 0.07999279999970116\n",
      "Mean Reward: 166.318\n",
      "Epsilon: 0.07999279999970116\n",
      "Mean Reward: 170.968\n",
      "Episode: 16000\n",
      "Epsilon: 0.07999279999970116\n",
      "Mean Reward: 173.08\n",
      "Epsilon: 0.07999279999970116\n",
      "Mean Reward: 180.772\n",
      "Episode: 18000\n",
      "Epsilon: 0.07999279999970116\n",
      "Mean Reward: 181.797\n",
      "Epsilon: 0.07999279999970116\n",
      "Mean Reward: 182.185\n",
      "Episode: 20000\n",
      "Epsilon: 0.07999279999970116\n",
      "Mean Reward: 183.872\n",
      "Epsilon: 0.07999279999970116\n",
      "Mean Reward: 193.057\n",
      "Episode: 22000\n",
      "Epsilon: 0.07999279999970116\n",
      "Mean Reward: 182.024\n",
      "Epsilon: 0.07999279999970116\n",
      "Mean Reward: 205.365\n",
      "Episode: 24000\n",
      "Epsilon: 0.07999279999970116\n",
      "Mean Reward: 204.065\n",
      "Epsilon: 0.07999279999970116\n",
      "Mean Reward: 189.43\n",
      "Episode: 26000\n",
      "Epsilon: 0.07999279999970116\n",
      "Mean Reward: 204.866\n",
      "Epsilon: 0.07999279999970116\n",
      "Mean Reward: 216.606\n",
      "Episode: 28000\n",
      "Epsilon: 0.07999279999970116\n",
      "Mean Reward: 208.711\n",
      "Epsilon: 0.07999279999970116\n",
      "Mean Reward: 227.549\n",
      "Episode: 30000\n",
      "Epsilon: 0.07999279999970116\n",
      "Mean Reward: 239.898\n",
      "Epsilon: 0.07999279999970116\n",
      "Mean Reward: 226.786\n",
      "Episode: 32000\n",
      "Epsilon: 0.07999279999970116\n",
      "Mean Reward: 221.483\n",
      "Epsilon: 0.07999279999970116\n",
      "Mean Reward: 253.037\n",
      "Episode: 34000\n",
      "Epsilon: 0.07999279999970116\n",
      "Mean Reward: 247.996\n",
      "Epsilon: 0.07999279999970116\n",
      "Mean Reward: 251.757\n",
      "Episode: 36000\n",
      "Epsilon: 0.07999279999970116\n",
      "Mean Reward: 269.236\n",
      "Epsilon: 0.07999279999970116\n",
      "Mean Reward: 293.865\n",
      "Episode: 38000\n",
      "Epsilon: 0.07999279999970116\n",
      "Mean Reward: 337.369\n",
      "Epsilon: 0.07999279999970116\n",
      "Mean Reward: 343.767\n",
      "Episode: 40000\n",
      "Epsilon: 0.07999279999970116\n",
      "Mean Reward: 328.1\n",
      "Epsilon: 0.07999279999970116\n",
      "Mean Reward: 484.369\n",
      "Episode: 42000\n",
      "Epsilon: 0.07999279999970116\n",
      "Mean Reward: 331.849\n",
      "Epsilon: 0.07999279999970116\n",
      "Mean Reward: 383.676\n",
      "Episode: 44000\n",
      "Epsilon: 0.07999279999970116\n",
      "Mean Reward: 468.869\n",
      "Epsilon: 0.07999279999970116\n",
      "Mean Reward: 294.638\n",
      "Episode: 46000\n",
      "Epsilon: 0.07999279999970116\n",
      "Mean Reward: 396.804\n",
      "Epsilon: 0.07999279999970116\n",
      "Mean Reward: 440.732\n",
      "Episode: 48000\n",
      "Epsilon: 0.07999279999970116\n",
      "Mean Reward: 292.903\n",
      "Epsilon: 0.07999279999970116\n",
      "Mean Reward: 359.605\n",
      "Episode: 50000\n",
      "Epsilon: 0.07999279999970116\n",
      "Mean Reward: 464.095\n",
      "Epsilon: 0.07999279999970116\n",
      "Mean Reward: 479.067\n",
      "Episode: 52000\n",
      "Epsilon: 0.07999279999970116\n",
      "Mean Reward: 359.21\n",
      "Epsilon: 0.07999279999970116\n",
      "Mean Reward: 425.962\n",
      "Episode: 54000\n",
      "Epsilon: 0.07999279999970116\n",
      "Mean Reward: 312.07\n",
      "Epsilon: 0.07999279999970116\n",
      "Mean Reward: 292.629\n",
      "Episode: 56000\n",
      "Epsilon: 0.07999279999970116\n",
      "Mean Reward: 574.11\n",
      "Epsilon: 0.07999279999970116\n",
      "Mean Reward: 597.739\n",
      "Episode: 58000\n",
      "Epsilon: 0.07999279999970116\n",
      "Mean Reward: 520.87\n",
      "Epsilon: 0.07999279999970116\n",
      "Mean Reward: 381.302\n"
     ]
    }
   ],
   "source": [
    "   for episode in range(EPISODES):\n",
    "        discrete_state = get_discrete_state(env.reset()[0])\n",
    "        done = False\n",
    "        episode_reward = 0\n",
    "        episode_length = 0\n",
    "\n",
    "        # update every 2000 episodes\n",
    "        if episode % 2000 == 0:\n",
    "            print(\"Episode: \" + str(episode))\n",
    "\n",
    "        while not done:\n",
    "\n",
    "            # always get max for now\n",
    "            if np.random.random() > epsilon:\n",
    "                action = np.argmax(q_table[discrete_state])\n",
    "            else:\n",
    "                action = np.random.randint(0, env.action_space.n)\n",
    "\n",
    "            new_env = env.step(action)\n",
    "            new_state = new_env[0]\n",
    "            reward = new_env[1]\n",
    "            done = new_env[2]\n",
    "            episode_reward += reward\n",
    "            episode_length += 1\n",
    "\n",
    "            new_discrete_state = get_discrete_state(new_state)\n",
    "            max_future_q = np.max(q_table[new_discrete_state])\n",
    "            current_q = q_table[discrete_state + (action,)]\n",
    "\n",
    "            # Reward shaping\n",
    "            if done:\n",
    "                if episode_length >= 195:\n",
    "                    reward = 1\n",
    "                else:\n",
    "                    reward = -1\n",
    "            else:\n",
    "                reward = 0.1\n",
    "\n",
    "            new_q = (1 - LEARNING_RATE) * current_q + LEARNING_RATE * (reward + DISCOUNT * max_future_q)\n",
    "            q_table[discrete_state + (action,)] = new_q\n",
    "\n",
    "            discrete_state = new_discrete_state\n",
    "\n",
    "            # check termination conditions\n",
    "            #if abs(new_state[0]) > 2.4 or abs(new_state[2]) > np.radians(12) or episode_length > 500:\n",
    "                 #done = True\n",
    "\n",
    "        total_reward += episode_reward\n",
    "        rewardArr.append(episode_reward)\n",
    "        if epsilon > 0.08:\n",
    "            epsilon -= epsilon_decay\n",
    "        if episode % 1000 == 0:\n",
    "            print(\"Epsilon: \" + str(epsilon))\n",
    "            mean_reward = total_reward / 1000\n",
    "            print(\"Mean Reward: \" + str(mean_reward))\n",
    "\n",
    "            prev_mean = mean_reward\n",
    "            total_reward = 0\n",
    "\n",
    "\n",
    "env.close()\n"
   ]
  },
  {
   "cell_type": "code",
   "execution_count": 84,
   "id": "55cb0036",
   "metadata": {},
   "outputs": [
    {
     "name": "stdout",
     "output_type": "stream",
     "text": [
      "Average cumulative reward:255.33401666666666\n",
      "Is my agent good enough? True\n"
     ]
    },
    {
     "data": {
      "image/png": "[encoded data removed]",
      "text/plain": [
       "<Figure size 432x288 with 1 Axes>"
      ]
     },
     "metadata": {
      "needs_background": "light"
     },
     "output_type": "display_data"
    }
   ],
   "source": [
    "plt.plot(rewardArr)\n",
    "print(\"Average cumulative reward:\" + str(np.mean(rewardArr)))\n",
    "print(\"Is my agent good enough? \" + str(np.mean(rewardArr) > 195))\n",
    "\n",
    "plt.title('Cumulative reward for each episode')\n",
    "plt.ylabel('Cumulative reward')\n",
    "plt.xlabel('episode')\n",
    "\n",
    "plt.show()"
   ]
  },
  {
   "cell_type": "code",
   "execution_count": 85,
   "id": "216b5cb3",
   "metadata": {},
   "outputs": [
    {
     "ename": "DependencyNotInstalled",
     "evalue": "pygame is not installed, run `pip install gym[classic_control]`",
     "output_type": "error",
     "traceback": [
      "\u001b[0;31m---------------------------------------------------------------------------\u001b[0m",
      "\u001b[0;31mModuleNotFoundError\u001b[0m                       Traceback (most recent call last)",
      "File \u001b[0;32m~/opt/anaconda3/lib/python3.9/site-packages/gym/envs/classic_control/cartpole.py:219\u001b[0m, in \u001b[0;36mCartPoleEnv.render\u001b[0;34m(self)\u001b[0m\n\u001b[1;32m    218\u001b[0m \u001b[38;5;28;01mtry\u001b[39;00m:\n\u001b[0;32m--> 219\u001b[0m     \u001b[38;5;28;01mimport\u001b[39;00m \u001b[38;5;21;01mpygame\u001b[39;00m\n\u001b[1;32m    220\u001b[0m     \u001b[38;5;28;01mfrom\u001b[39;00m \u001b[38;5;21;01mpygame\u001b[39;00m \u001b[38;5;28;01mimport\u001b[39;00m gfxdraw\n",
      "\u001b[0;31mModuleNotFoundError\u001b[0m: No module named 'pygame'",
      "\nDuring handling of the above exception, another exception occurred:\n",
      "\u001b[0;31mDependencyNotInstalled\u001b[0m                    Traceback (most recent call last)",
      "Input \u001b[0;32mIn [85]\u001b[0m, in \u001b[0;36m<cell line: 4>\u001b[0;34m()\u001b[0m\n\u001b[1;32m      1\u001b[0m episode_reward \u001b[38;5;241m=\u001b[39m \u001b[38;5;241m0\u001b[39m\n\u001b[1;32m      3\u001b[0m env \u001b[38;5;241m=\u001b[39m RecordVideo(gym\u001b[38;5;241m.\u001b[39mmake(\u001b[38;5;124m\"\u001b[39m\u001b[38;5;124mCartPole-v1\u001b[39m\u001b[38;5;124m\"\u001b[39m, render_mode\u001b[38;5;241m=\u001b[39m\u001b[38;5;124m\"\u001b[39m\u001b[38;5;124mhuman\u001b[39m\u001b[38;5;124m\"\u001b[39m),\u001b[38;5;124m\"\u001b[39m\u001b[38;5;124m./video\u001b[39m\u001b[38;5;124m\"\u001b[39m)\n\u001b[0;32m----> 4\u001b[0m observation \u001b[38;5;241m=\u001b[39m \u001b[43menv\u001b[49m\u001b[38;5;241;43m.\u001b[39;49m\u001b[43mreset\u001b[49m\u001b[43m(\u001b[49m\u001b[43m)\u001b[49m\n\u001b[1;32m      5\u001b[0m discrete_state \u001b[38;5;241m=\u001b[39m get_discrete_state(observation[\u001b[38;5;241m0\u001b[39m])\n\u001b[1;32m      7\u001b[0m done \u001b[38;5;241m=\u001b[39m \u001b[38;5;28;01mFalse\u001b[39;00m\n",
      "File \u001b[0;32m~/opt/anaconda3/lib/python3.9/site-packages/gym/wrappers/record_video.py:94\u001b[0m, in \u001b[0;36mRecordVideo.reset\u001b[0;34m(self, **kwargs)\u001b[0m\n\u001b[1;32m     92\u001b[0m \u001b[38;5;28;01mdef\u001b[39;00m \u001b[38;5;21mreset\u001b[39m(\u001b[38;5;28mself\u001b[39m, \u001b[38;5;241m*\u001b[39m\u001b[38;5;241m*\u001b[39mkwargs):\n\u001b[1;32m     93\u001b[0m \u001b[38;5;250m    \u001b[39m\u001b[38;5;124;03m\"\"\"Reset the environment using kwargs and then starts recording if video enabled.\"\"\"\u001b[39;00m\n\u001b[0;32m---> 94\u001b[0m     observations \u001b[38;5;241m=\u001b[39m \u001b[38;5;28;43msuper\u001b[39;49m\u001b[43m(\u001b[49m\u001b[43m)\u001b[49m\u001b[38;5;241;43m.\u001b[39;49m\u001b[43mreset\u001b[49m\u001b[43m(\u001b[49m\u001b[38;5;241;43m*\u001b[39;49m\u001b[38;5;241;43m*\u001b[39;49m\u001b[43mkwargs\u001b[49m\u001b[43m)\u001b[49m\n\u001b[1;32m     95\u001b[0m     \u001b[38;5;28mself\u001b[39m\u001b[38;5;241m.\u001b[39mterminated \u001b[38;5;241m=\u001b[39m \u001b[38;5;28;01mFalse\u001b[39;00m\n\u001b[1;32m     96\u001b[0m     \u001b[38;5;28mself\u001b[39m\u001b[38;5;241m.\u001b[39mtruncated \u001b[38;5;241m=\u001b[39m \u001b[38;5;28;01mFalse\u001b[39;00m\n",
      "File \u001b[0;32m~/opt/anaconda3/lib/python3.9/site-packages/gym/core.py:323\u001b[0m, in \u001b[0;36mWrapper.reset\u001b[0;34m(self, **kwargs)\u001b[0m\n\u001b[1;32m    321\u001b[0m \u001b[38;5;28;01mdef\u001b[39;00m \u001b[38;5;21mreset\u001b[39m(\u001b[38;5;28mself\u001b[39m, \u001b[38;5;241m*\u001b[39m\u001b[38;5;241m*\u001b[39mkwargs) \u001b[38;5;241m-\u001b[39m\u001b[38;5;241m>\u001b[39m Tuple[ObsType, \u001b[38;5;28mdict\u001b[39m]:\n\u001b[1;32m    322\u001b[0m \u001b[38;5;250m    \u001b[39m\u001b[38;5;124;03m\"\"\"Resets the environment with kwargs.\"\"\"\u001b[39;00m\n\u001b[0;32m--> 323\u001b[0m     \u001b[38;5;28;01mreturn\u001b[39;00m \u001b[38;5;28;43mself\u001b[39;49m\u001b[38;5;241;43m.\u001b[39;49m\u001b[43menv\u001b[49m\u001b[38;5;241;43m.\u001b[39;49m\u001b[43mreset\u001b[49m\u001b[43m(\u001b[49m\u001b[38;5;241;43m*\u001b[39;49m\u001b[38;5;241;43m*\u001b[39;49m\u001b[43mkwargs\u001b[49m\u001b[43m)\u001b[49m\n",
      "File \u001b[0;32m~/opt/anaconda3/lib/python3.9/site-packages/gym/wrappers/time_limit.py:68\u001b[0m, in \u001b[0;36mTimeLimit.reset\u001b[0;34m(self, **kwargs)\u001b[0m\n\u001b[1;32m     59\u001b[0m \u001b[38;5;250m\u001b[39m\u001b[38;5;124;03m\"\"\"Resets the environment with :param:`**kwargs` and sets the number of steps elapsed to zero.\u001b[39;00m\n\u001b[1;32m     60\u001b[0m \n\u001b[1;32m     61\u001b[0m \u001b[38;5;124;03mArgs:\u001b[39;00m\n\u001b[0;32m   (...)\u001b[0m\n\u001b[1;32m     65\u001b[0m \u001b[38;5;124;03m    The reset environment\u001b[39;00m\n\u001b[1;32m     66\u001b[0m \u001b[38;5;124;03m\"\"\"\u001b[39;00m\n\u001b[1;32m     67\u001b[0m \u001b[38;5;28mself\u001b[39m\u001b[38;5;241m.\u001b[39m_elapsed_steps \u001b[38;5;241m=\u001b[39m \u001b[38;5;241m0\u001b[39m\n\u001b[0;32m---> 68\u001b[0m \u001b[38;5;28;01mreturn\u001b[39;00m \u001b[38;5;28;43mself\u001b[39;49m\u001b[38;5;241;43m.\u001b[39;49m\u001b[43menv\u001b[49m\u001b[38;5;241;43m.\u001b[39;49m\u001b[43mreset\u001b[49m\u001b[43m(\u001b[49m\u001b[38;5;241;43m*\u001b[39;49m\u001b[38;5;241;43m*\u001b[39;49m\u001b[43mkwargs\u001b[49m\u001b[43m)\u001b[49m\n",
      "File \u001b[0;32m~/opt/anaconda3/lib/python3.9/site-packages/gym/wrappers/order_enforcing.py:42\u001b[0m, in \u001b[0;36mOrderEnforcing.reset\u001b[0;34m(self, **kwargs)\u001b[0m\n\u001b[1;32m     40\u001b[0m \u001b[38;5;250m\u001b[39m\u001b[38;5;124;03m\"\"\"Resets the environment with `kwargs`.\"\"\"\u001b[39;00m\n\u001b[1;32m     41\u001b[0m \u001b[38;5;28mself\u001b[39m\u001b[38;5;241m.\u001b[39m_has_reset \u001b[38;5;241m=\u001b[39m \u001b[38;5;28;01mTrue\u001b[39;00m\n\u001b[0;32m---> 42\u001b[0m \u001b[38;5;28;01mreturn\u001b[39;00m \u001b[38;5;28;43mself\u001b[39;49m\u001b[38;5;241;43m.\u001b[39;49m\u001b[43menv\u001b[49m\u001b[38;5;241;43m.\u001b[39;49m\u001b[43mreset\u001b[49m\u001b[43m(\u001b[49m\u001b[38;5;241;43m*\u001b[39;49m\u001b[38;5;241;43m*\u001b[39;49m\u001b[43mkwargs\u001b[49m\u001b[43m)\u001b[49m\n",
      "File \u001b[0;32m~/opt/anaconda3/lib/python3.9/site-packages/gym/wrappers/env_checker.py:45\u001b[0m, in \u001b[0;36mPassiveEnvChecker.reset\u001b[0;34m(self, **kwargs)\u001b[0m\n\u001b[1;32m     43\u001b[0m \u001b[38;5;28;01mif\u001b[39;00m \u001b[38;5;28mself\u001b[39m\u001b[38;5;241m.\u001b[39mchecked_reset \u001b[38;5;129;01mis\u001b[39;00m \u001b[38;5;28;01mFalse\u001b[39;00m:\n\u001b[1;32m     44\u001b[0m     \u001b[38;5;28mself\u001b[39m\u001b[38;5;241m.\u001b[39mchecked_reset \u001b[38;5;241m=\u001b[39m \u001b[38;5;28;01mTrue\u001b[39;00m\n\u001b[0;32m---> 45\u001b[0m     \u001b[38;5;28;01mreturn\u001b[39;00m \u001b[43menv_reset_passive_checker\u001b[49m\u001b[43m(\u001b[49m\u001b[38;5;28;43mself\u001b[39;49m\u001b[38;5;241;43m.\u001b[39;49m\u001b[43menv\u001b[49m\u001b[43m,\u001b[49m\u001b[43m \u001b[49m\u001b[38;5;241;43m*\u001b[39;49m\u001b[38;5;241;43m*\u001b[39;49m\u001b[43mkwargs\u001b[49m\u001b[43m)\u001b[49m\n\u001b[1;32m     46\u001b[0m \u001b[38;5;28;01melse\u001b[39;00m:\n\u001b[1;32m     47\u001b[0m     \u001b[38;5;28;01mreturn\u001b[39;00m \u001b[38;5;28mself\u001b[39m\u001b[38;5;241m.\u001b[39menv\u001b[38;5;241m.\u001b[39mreset(\u001b[38;5;241m*\u001b[39m\u001b[38;5;241m*\u001b[39mkwargs)\n",
      "File \u001b[0;32m~/opt/anaconda3/lib/python3.9/site-packages/gym/utils/passive_env_checker.py:192\u001b[0m, in \u001b[0;36menv_reset_passive_checker\u001b[0;34m(env, **kwargs)\u001b[0m\n\u001b[1;32m    187\u001b[0m     logger\u001b[38;5;241m.\u001b[39mwarn(\n\u001b[1;32m    188\u001b[0m         \u001b[38;5;124m\"\u001b[39m\u001b[38;5;124mFuture gym versions will require that `Env.reset` can be passed `options` to allow the environment initialisation to be passed additional information.\u001b[39m\u001b[38;5;124m\"\u001b[39m\n\u001b[1;32m    189\u001b[0m     )\n\u001b[1;32m    191\u001b[0m \u001b[38;5;66;03m# Checks the result of env.reset with kwargs\u001b[39;00m\n\u001b[0;32m--> 192\u001b[0m result \u001b[38;5;241m=\u001b[39m \u001b[43menv\u001b[49m\u001b[38;5;241;43m.\u001b[39;49m\u001b[43mreset\u001b[49m\u001b[43m(\u001b[49m\u001b[38;5;241;43m*\u001b[39;49m\u001b[38;5;241;43m*\u001b[39;49m\u001b[43mkwargs\u001b[49m\u001b[43m)\u001b[49m\n\u001b[1;32m    194\u001b[0m \u001b[38;5;28;01mif\u001b[39;00m \u001b[38;5;129;01mnot\u001b[39;00m \u001b[38;5;28misinstance\u001b[39m(result, \u001b[38;5;28mtuple\u001b[39m):\n\u001b[1;32m    195\u001b[0m     logger\u001b[38;5;241m.\u001b[39mwarn(\n\u001b[1;32m    196\u001b[0m         \u001b[38;5;124mf\u001b[39m\u001b[38;5;124m\"\u001b[39m\u001b[38;5;124mThe result returned by `env.reset()` was not a tuple of the form `(obs, info)`, where `obs` is a observation and `info` is a dictionary containing additional information. Actual type: `\u001b[39m\u001b[38;5;132;01m{\u001b[39;00m\u001b[38;5;28mtype\u001b[39m(result)\u001b[38;5;132;01m}\u001b[39;00m\u001b[38;5;124m`\u001b[39m\u001b[38;5;124m\"\u001b[39m\n\u001b[1;32m    197\u001b[0m     )\n",
      "File \u001b[0;32m~/opt/anaconda3/lib/python3.9/site-packages/gym/envs/classic_control/cartpole.py:206\u001b[0m, in \u001b[0;36mCartPoleEnv.reset\u001b[0;34m(self, seed, options)\u001b[0m\n\u001b[1;32m    203\u001b[0m \u001b[38;5;28mself\u001b[39m\u001b[38;5;241m.\u001b[39msteps_beyond_terminated \u001b[38;5;241m=\u001b[39m \u001b[38;5;28;01mNone\u001b[39;00m\n\u001b[1;32m    205\u001b[0m \u001b[38;5;28;01mif\u001b[39;00m \u001b[38;5;28mself\u001b[39m\u001b[38;5;241m.\u001b[39mrender_mode \u001b[38;5;241m==\u001b[39m \u001b[38;5;124m\"\u001b[39m\u001b[38;5;124mhuman\u001b[39m\u001b[38;5;124m\"\u001b[39m:\n\u001b[0;32m--> 206\u001b[0m     \u001b[38;5;28;43mself\u001b[39;49m\u001b[38;5;241;43m.\u001b[39;49m\u001b[43mrender\u001b[49m\u001b[43m(\u001b[49m\u001b[43m)\u001b[49m\n\u001b[1;32m    207\u001b[0m \u001b[38;5;28;01mreturn\u001b[39;00m np\u001b[38;5;241m.\u001b[39marray(\u001b[38;5;28mself\u001b[39m\u001b[38;5;241m.\u001b[39mstate, dtype\u001b[38;5;241m=\u001b[39mnp\u001b[38;5;241m.\u001b[39mfloat32), {}\n",
      "File \u001b[0;32m~/opt/anaconda3/lib/python3.9/site-packages/gym/envs/classic_control/cartpole.py:222\u001b[0m, in \u001b[0;36mCartPoleEnv.render\u001b[0;34m(self)\u001b[0m\n\u001b[1;32m    220\u001b[0m     \u001b[38;5;28;01mfrom\u001b[39;00m \u001b[38;5;21;01mpygame\u001b[39;00m \u001b[38;5;28;01mimport\u001b[39;00m gfxdraw\n\u001b[1;32m    221\u001b[0m \u001b[38;5;28;01mexcept\u001b[39;00m \u001b[38;5;167;01mImportError\u001b[39;00m:\n\u001b[0;32m--> 222\u001b[0m     \u001b[38;5;28;01mraise\u001b[39;00m DependencyNotInstalled(\n\u001b[1;32m    223\u001b[0m         \u001b[38;5;124m\"\u001b[39m\u001b[38;5;124mpygame is not installed, run `pip install gym[classic_control]`\u001b[39m\u001b[38;5;124m\"\u001b[39m\n\u001b[1;32m    224\u001b[0m     )\n\u001b[1;32m    226\u001b[0m \u001b[38;5;28;01mif\u001b[39;00m \u001b[38;5;28mself\u001b[39m\u001b[38;5;241m.\u001b[39mscreen \u001b[38;5;129;01mis\u001b[39;00m \u001b[38;5;28;01mNone\u001b[39;00m:\n\u001b[1;32m    227\u001b[0m     pygame\u001b[38;5;241m.\u001b[39minit()\n",
      "\u001b[0;31mDependencyNotInstalled\u001b[0m: pygame is not installed, run `pip install gym[classic_control]`"
     ]
    }
   ],
   "source": [
    "episode_reward = 0\n",
    "\n",
    "env = RecordVideo(gym.make(\"CartPole-v1\", render_mode=\"human\"),\"./video\")\n",
    "observation = env.reset()\n",
    "discrete_state = get_discrete_state(observation[0])\n",
    "\n",
    "done = False\n",
    "while not done:\n",
    "    env.render()\n",
    "    action = np.argmax(q_table[discrete_state])\n",
    "    new_env = env.step(action)\n",
    "    new_state = new_env[0]\n",
    "    reward = new_env[1]\n",
    "    done = new_env[2]\n",
    "    episode_reward += reward\n",
    "    \n",
    "    new_discrete_state = get_discrete_state(new_state)\n",
    "    discrete_state = new_discrete_state\n",
    "\n",
    "    if done:\n",
    "        observation = env.reset()\n",
    "        discrete_state = get_discrete_state(observation[0])\n",
    "\n",
    "env.close()\n",
    "show_video()\n",
    "print(episode_reward)"
   ]
  },
  {
   "cell_type": "code",
   "execution_count": null,
   "id": "7bb4ffae",
   "metadata": {},
   "outputs": [],
   "source": [
    "\n"
   ]
  },
  {
   "cell_type": "code",
   "execution_count": null,
   "id": "1bc04140",
   "metadata": {},
   "outputs": [],
   "source": []
  }
 ],
 "metadata": {
  "kernelspec": {
   "display_name": "Python 3 (ipykernel)",
   "language": "python",
   "name": "python3"
  },
  "language_info": {
   "codemirror_mode": {
    "name": "ipython",
    "version": 3
   },
   "file_extension": ".py",
   "mimetype": "text/x-python",
   "name": "python",
   "nbconvert_exporter": "python",
   "pygments_lexer": "ipython3",
   "version": "3.11.2"
  },
  "vscode": {
   "interpreter": {
    "hash": "b0fa6594d8f4cbf19f97940f81e996739fb7646882a419484c72d19e05852a7e"
   }
  }
 },
 "nbformat": 4,
 "nbformat_minor": 5
}
