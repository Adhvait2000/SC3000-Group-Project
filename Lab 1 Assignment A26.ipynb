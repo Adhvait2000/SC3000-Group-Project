{
 "cells": [
  {
   "cell_type": "markdown",
   "id": "2e04af95",
   "metadata": {},
   "source": [
    "# Importing Libraries"
   ]
  },
  {
   "cell_type": "code",
   "execution_count": 1,
   "id": "81b3c078",
   "metadata": {},
   "outputs": [],
   "source": [
    "import gym\n",
    "from gym import logger as gymlogger\n",
    "from gym.wrappers import RecordVideo\n",
    "gymlogger.set_level(40) #error only\n",
    "#import tensorflow as tf\n",
    "import numpy as np\n",
    "import random\n",
    "import matplotlib\n",
    "import matplotlib.pyplot as plt\n",
    "%matplotlib inline\n",
    "import math\n",
    "import glob\n",
    "import io\n",
    "import base64\n",
    "from IPython.display import HTML\n",
    "from IPython import display as ipythondisplay"
   ]
  },
  {
   "cell_type": "markdown",
   "id": "f006bc8e",
   "metadata": {},
   "source": [
    "# Function to Render Video"
   ]
  },
  {
   "cell_type": "code",
   "execution_count": 2,
   "id": "c7c5be75",
   "metadata": {},
   "outputs": [],
   "source": [
    "def show_video():\n",
    "  mp4list = glob.glob('video/*.mp4')\n",
    "  if len(mp4list) > 0:\n",
    "    mp4 = mp4list[0]\n",
    "    video = io.open(mp4, 'r+b').read()\n",
    "    encoded = base64.b64encode(video)\n",
    "    ipythondisplay.display(HTML(data='''<video alt=\"test\" autoplay \n",
    "                loop controls style=\"height: 400px;\">\n",
    "                <source src=\"data:video/mp4;base64,{0}\" type=\"video/mp4\" />\n",
    "             </video>'''.format(encoded.decode('ascii'))))\n",
    "  else: \n",
    "    print(\"Could not find video\")"
   ]
  },
  {
   "cell_type": "markdown",
   "id": "5c8b3d4b",
   "metadata": {},
   "source": [
    "# Making the Environment"
   ]
  },
  {
   "cell_type": "code",
   "execution_count": 3,
   "id": "57d39115",
   "metadata": {},
   "outputs": [
    {
     "name": "stdout",
     "output_type": "stream",
     "text": [
      "500\n"
     ]
    }
   ],
   "source": [
    "env = gym.make(\"CartPole-v1\")"
   ]
  },
  {
   "cell_type": "markdown",
   "id": "40c5e269",
   "metadata": {},
   "source": [
    "# Initializing the Hyperparameters\n",
    "\n",
    "Purpose of each hyperparameter:\n",
    "1. **LEARNING_RATE** = Determines the step size at which the agent updates its Q-values during the learning process. A smaller learning rate can lead to slower learning but may converge a better solution, while a larger learning rate can lead to faster learning but may not converge to an optimal solution. Based on our testing, we found 0.2 is the optimal value\n",
    "\n",
    "2. **DISCOUNT** = The determines the discount factor for future rewards in the Q-learning algorithm. A higher discount factor values futures rewards more than immediate rewards. Based on our testing, we found 1 is the optimal value.\n",
    "\n",
    "3. **EPSIODES** = This determines the number of episodes that the agent will play duirng the learning process. \n",
    "\n",
    "4. **Observation** = Determines the size of the observation space for the agent. In this case, it is a list of 4 numbers representing the screen's dimensions and the angle and position of the pole.\n",
    "\n",
    "5. **np_array_win_size** = determines the size of the window used to discretize the observation space\n",
    "\n",
    "6. **epsilon** = Determines the exploration rate of the agent during training. Initially epsilon starts at 1, meaning the agent always chooses a random action. The more the agent trains the epsilon is decreased to help it make better decisions\n",
    "\n",
    "7. **epsilon_min** = determines the minimum value of epsilon, ensuring that the agent continues to explore even after many epsidoes of training while selecting the best action 95% of the time\n",
    "\n",
    "7. **epsilon_decay** = determines the constant rate at which epsilon decreases over time, allowing the agent to explore less as it becomes more familiar with the environment. \n",
    "\n",
    "\n",
    "8. **rewardArr** = list to store the reward obtained by the agent at each episode during training. "
   ]
  },
  {
   "cell_type": "code",
   "execution_count": 4,
   "id": "43c18f06",
   "metadata": {},
   "outputs": [],
   "source": [
    "#Defining Hypermeters\n",
    "\n",
    "LEARNING_RATE = 0.2\n",
    "DISCOUNT = 1 \n",
    "EPISODES = 50000\n",
    "\n",
    "\n",
    "# Define observation and window size\n",
    "Observation = [40, 40, 50, 50]\n",
    "np_array_win_size = np.array([0.25, 0.25, 0.05, 0.5])\n",
    "\n",
    "\n",
    "epsilon = 1\n",
    "epsilon_min = 0.05\n",
    "epsilon_decay = (epsilon-epsilon_min)/12500\n",
    "\n",
    "\n",
    "obs = env.reset()\n",
    "\n",
    "rewardArr = []\n"
   ]
  },
  {
   "cell_type": "markdown",
   "id": "b909a428",
   "metadata": {},
   "source": [
    "# Creating the Q-Table\n",
    "\n",
    "Importance of Q-Table:\n",
    "It is used in Q-learning algorithm to store the estimated Q-values for each state-action pair in the environment. The Q-value represents the expected cumulative reward for taking a particular action from a particular state."
   ]
  },
  {
   "cell_type": "code",
   "execution_count": 5,
   "id": "d53ab7e1",
   "metadata": {},
   "outputs": [
    {
     "data": {
      "text/plain": [
       "(40, 40, 50, 50, 2)"
      ]
     },
     "execution_count": 5,
     "metadata": {},
     "output_type": "execute_result"
    }
   ],
   "source": [
    "q_table = np.zeros((Observation + [env.action_space.n]))\n",
    "q_table.shape"
   ]
  },
  {
   "cell_type": "markdown",
   "id": "24aedf91",
   "metadata": {},
   "source": [
    "The above code initializes a Q-table as NumPy array of zeroes. The shape of the array is determined by the size of the observation space plus the number of actions available in the env (specified by env.action_space)\n",
    "\n",
    "The Q-table is initialized with all zeroes to represent that the agent has no prior knowledge about the env and its q-values. During the learning process, the agent updates the Q-values based on the rewards obtained and the transitions between states, ultimately leading to a better performance. "
   ]
  },
  {
   "cell_type": "markdown",
   "id": "051d1b9d",
   "metadata": {},
   "source": [
    "# Getting a Discrete State\n",
    "\n",
    "The observation contains 4 continuous variables corresponding the cart position & velocity, pole angle & velocity\n",
    "\n",
    "Because the environment state is continuous, we will need to discretize its values "
   ]
  },
  {
   "cell_type": "code",
   "execution_count": 6,
   "id": "c7d0ae29",
   "metadata": {},
   "outputs": [
    {
     "name": "stdout",
     "output_type": "stream",
     "text": [
      "(31, 2, 9, 11)\n"
     ]
    }
   ],
   "source": [
    "#defining the discrete state\n",
    "def get_discrete_state(state):\n",
    "    \n",
    "    discrete_state = state/np_array_win_size+ np.array([15,10,1,10])\n",
    "\n",
    "    return tuple(discrete_state.astype(int)) \n"
   ]
  },
  {
   "cell_type": "markdown",
   "id": "97df3ada",
   "metadata": {},
   "source": [
    "# Task 1 - Training the Agent\n",
    "\n",
    "Here, we will be developing our RL Agent. After defining the hyper parameters, Q-table, and discrete state before, we run the following code to train our agent.\n",
    "\n",
    "#### Note: In our environment, the episode does not automatically end when it hits 500 step. During training, we can expect mean values to be greater than 500.  We will manually truncate the episode during testing subsequently"
   ]
  },
  {
   "cell_type": "code",
   "execution_count": 7,
   "id": "83b75070",
   "metadata": {
    "scrolled": false
   },
   "outputs": [
    {
     "name": "stdout",
     "output_type": "stream",
     "text": [
      "Episode: 0\n",
      "Epsilon: 0.999924\n",
      "Mean Reward: 0.015\n",
      "Epsilon: 0.923924000000035\n",
      "Mean Reward: 22.737\n",
      "Episode: 2000\n",
      "Epsilon: 0.8872920000000519\n",
      "Mean Reward: 26.695\n",
      "Epsilon: 0.8542320000000672\n",
      "Mean Reward: 29.166\n",
      "Episode: 4000\n",
      "Epsilon: 0.8252760000000805\n",
      "Mean Reward: 29.669\n",
      "Epsilon: 0.7918360000000959\n",
      "Mean Reward: 32.373\n",
      "Episode: 6000\n",
      "Epsilon: 0.756952000000112\n",
      "Mean Reward: 35.86\n",
      "Epsilon: 0.720092000000129\n",
      "Mean Reward: 39.018\n",
      "Episode: 8000\n",
      "Epsilon: 0.685284000000145\n",
      "Mean Reward: 42.034\n",
      "Epsilon: 0.6510840000001608\n",
      "Mean Reward: 45.005\n",
      "Episode: 10000\n",
      "Epsilon: 0.6139960000001778\n",
      "Mean Reward: 51.275\n",
      "Epsilon: 0.5775160000001947\n",
      "Mean Reward: 55.327\n",
      "Episode: 12000\n",
      "Epsilon: 0.5400480000002119\n",
      "Mean Reward: 59.604\n",
      "Epsilon: 0.49862800000022994\n",
      "Mean Reward: 68.049\n",
      "Episode: 14000\n",
      "Epsilon: 0.46040000000021963\n",
      "Mean Reward: 75.277\n",
      "Epsilon: 0.42042400000020885\n",
      "Mean Reward: 81.161\n",
      "Episode: 16000\n",
      "Epsilon: 0.37999200000019795\n",
      "Mean Reward: 88.694\n",
      "Epsilon: 0.33994000000018715\n",
      "Mean Reward: 94.437\n",
      "Episode: 18000\n",
      "Epsilon: 0.28985600000017364\n",
      "Mean Reward: 115.722\n",
      "Epsilon: 0.2556560000001644\n",
      "Mean Reward: 108.342\n",
      "Episode: 20000\n",
      "Epsilon: 0.207168000000167\n",
      "Mean Reward: 126.674\n",
      "Epsilon: 0.16688800000017084\n",
      "Mean Reward: 131.151\n",
      "Episode: 22000\n",
      "Epsilon: 0.1254680000001748\n",
      "Mean Reward: 137.431\n",
      "Epsilon: 0.08040000000017096\n",
      "Mean Reward: 149.384\n",
      "Episode: 24000\n",
      "Epsilon: 0.04992400000016946\n",
      "Mean Reward: 164.194\n",
      "Epsilon: 0.04992400000016946\n",
      "Mean Reward: 199.28\n",
      "Episode: 26000\n",
      "Epsilon: 0.04992400000016946\n",
      "Mean Reward: 189.792\n",
      "Epsilon: 0.04992400000016946\n",
      "Mean Reward: 224.385\n",
      "Episode: 28000\n",
      "Epsilon: 0.04992400000016946\n",
      "Mean Reward: 222.215\n",
      "Epsilon: 0.04992400000016946\n",
      "Mean Reward: 239.969\n",
      "Episode: 30000\n",
      "Epsilon: 0.04992400000016946\n",
      "Mean Reward: 233.307\n",
      "Epsilon: 0.04992400000016946\n",
      "Mean Reward: 206.184\n",
      "Episode: 32000\n",
      "Epsilon: 0.04992400000016946\n",
      "Mean Reward: 240.506\n",
      "Epsilon: 0.04992400000016946\n",
      "Mean Reward: 239.185\n",
      "Episode: 34000\n",
      "Epsilon: 0.04992400000016946\n",
      "Mean Reward: 252.112\n",
      "Epsilon: 0.04992400000016946\n",
      "Mean Reward: 234.264\n",
      "Episode: 36000\n",
      "Epsilon: 0.04992400000016946\n",
      "Mean Reward: 246.202\n",
      "Epsilon: 0.04992400000016946\n",
      "Mean Reward: 247.583\n",
      "Episode: 38000\n",
      "Epsilon: 0.04992400000016946\n",
      "Mean Reward: 363.098\n",
      "Epsilon: 0.04992400000016946\n",
      "Mean Reward: 253.876\n",
      "Episode: 40000\n",
      "Epsilon: 0.04992400000016946\n",
      "Mean Reward: 270.104\n",
      "Epsilon: 0.04992400000016946\n",
      "Mean Reward: 308.564\n",
      "Episode: 42000\n",
      "Epsilon: 0.04992400000016946\n",
      "Mean Reward: 267.152\n",
      "Epsilon: 0.04992400000016946\n",
      "Mean Reward: 311.677\n",
      "Episode: 44000\n",
      "Epsilon: 0.04992400000016946\n",
      "Mean Reward: 337.341\n",
      "Epsilon: 0.04992400000016946\n",
      "Mean Reward: 280.127\n",
      "Episode: 46000\n",
      "Epsilon: 0.04992400000016946\n",
      "Mean Reward: 415.484\n",
      "Epsilon: 0.04992400000016946\n",
      "Mean Reward: 310.431\n",
      "Episode: 48000\n",
      "Epsilon: 0.04992400000016946\n",
      "Mean Reward: 317.018\n",
      "Epsilon: 0.04992400000016946\n",
      "Mean Reward: 427.26\n"
     ]
    }
   ],
   "source": [
    "#Looping over the number of episodes\n",
    "def agent(env, EPISODES, LEARNING_RATE, DISCOUNT, epsilon, epsilon_decay,q_table):\n",
    "    total_reward = 0\n",
    "    prev_mean =0\n",
    "    for episode in range(EPISODES):\n",
    "\n",
    "        #reset the environment and get the initial state\n",
    "        discrete_state = get_discrete_state(env.reset()[0])\n",
    "        done = False\n",
    "        episode_reward = 0\n",
    "        episode_length = 0\n",
    "        \n",
    "       \n",
    "        # update every 2000 episodes\n",
    "        if episode % 2000 == 0:\n",
    "            print(\"Episode: \" + str(episode))\n",
    "\n",
    "        #Loop until the episodes are complete\n",
    "        while not done:\n",
    "\n",
    "            # Determine the action to take using epsilon-greedy policy\n",
    "            if np.random.random() > epsilon:\n",
    "                action = np.argmax(q_table[discrete_state])\n",
    "            else:\n",
    "                action = np.random.randint(0, env.action_space.n)\n",
    "\n",
    "            #Take the chosen action and observe the new state and reward\n",
    "            new_env = env.step(action)\n",
    "            new_state = new_env[0]\n",
    "            reward = new_env[1]\n",
    "            done = new_env[2]\n",
    "            episode_reward += reward\n",
    "            episode_length += 1\n",
    "            \n",
    "\n",
    "            #Discretize the new state and find the maximum Q-value for the new state\n",
    "            new_discrete_state = get_discrete_state(new_state)\n",
    "            max_future_q = np.max(q_table[new_discrete_state])\n",
    "            current_q = q_table[discrete_state + (action,)]\n",
    "            \n",
    "\n",
    "            # Shaping the reward based on whether the epsiode is complete and the \n",
    "            #length of the episode\n",
    "            #Encouraging agent to try different actions and explore the environment\n",
    "            if done:\n",
    "                if episode_length >= 195:\n",
    "                    reward = 1 #agent receives a reward of +1 if it has survived >195 steps\n",
    "                else:\n",
    "                    reward = -1 #otherwise, receives reward of -1\n",
    "            else:\n",
    "                reward = 0.1\n",
    "\n",
    "            #Updating the Q-table using the Q-learning update rule\n",
    "            new_q = (1 - LEARNING_RATE) * current_q + LEARNING_RATE * (reward + DISCOUNT * max_future_q)\n",
    "            q_table[discrete_state + (action,)] = new_q\n",
    "\n",
    "            #Update the current state to the new state\n",
    "            discrete_state = new_discrete_state\n",
    "\n",
    "        #Tracking the total episode reward and\n",
    "        #reward for each episode\n",
    "        total_reward += episode_reward\n",
    "        rewardArr.append(episode_reward)\n",
    "\n",
    "        #Update the exploration rate epsilon\n",
    "        #if episode reward is less than the mean of the past 1000 values then we will let it explore more and not decrease the epsilon\n",
    "        if epsilon > 0.05 and episode_reward > prev_mean:\n",
    "            epsilon -= epsilon_decay\n",
    "\n",
    "        #Print progress every 1000 episodes\n",
    "        if episode % 1000 == 0:\n",
    "            print(\"Epsilon: \" + str(epsilon))\n",
    "            mean_reward = total_reward / 1000\n",
    "            print(\"Mean Reward: \" + str(mean_reward))\n",
    "\n",
    "            #Update the previous mean and reset the total reward\n",
    "            prev_mean = mean_reward\n",
    "            total_reward = 0\n",
    "            \n",
    "    #closing the environment and returning the trained q_table and rewardArr\n",
    "    env.close()\n",
    "    return q_table, rewardArr\n",
    "\n",
    "\n",
    "#Running the training agent based on the initial parameters\n",
    "q_table, rewards = agent(env, EPISODES, LEARNING_RATE, DISCOUNT, epsilon, epsilon_decay, q_table)"
   ]
  },
  {
   "cell_type": "markdown",
   "id": "4f91cf60",
   "metadata": {},
   "source": [
    "# Task 1 - Sampling a Random State\n",
    "\n",
    "Here, we sample a random state from the cart pole environment, inputting to the agent, and outputting a chosen action. "
   ]
  },
  {
   "cell_type": "code",
   "execution_count": 9,
   "id": "934305f4",
   "metadata": {},
   "outputs": [
    {
     "name": "stdout",
     "output_type": "stream",
     "text": [
      "Observation: [ 2.2139385e-02  2.6568612e-02  7.1117110e-03 -4.2741223e-05]\n",
      "Chosen Action: 0\n"
     ]
    }
   ],
   "source": [
    "#Initializing the CartPole-v1 env\n",
    "env = gym.make(\"CartPole-v1\")\n",
    "\n",
    "#Resetting the env and obtaining the initial observation\n",
    "observation = env.reset()\n",
    "\n",
    "#Printing out the first element of the observation array\n",
    "print(\"Observation:\" , observation[0] )\n",
    "\n",
    "#Converting the continuous observation to a discrete state\n",
    "discrete_state = get_discrete_state(observation[0])\n",
    "\n",
    "#Using the Q-table to choose the best action for the current state\n",
    "action = np.argmax(q_table[discrete_state])\n",
    "\n",
    "#Printing out the chosen action\n",
    "print(\"Chosen Action:\", action)\n"
   ]
  },
  {
   "cell_type": "markdown",
   "id": "28b9fe25",
   "metadata": {},
   "source": [
    "# Task 2 - Effectiveness of the RL Agent\n",
    "\n",
    "We will be plotting a graph of the cumulative reward of our agent over 100 episodes.\n",
    "We will then be calculating the average of the rewardArr and checking whether it is >195 to ensure that our agent is good enough and satisfies the condition. \n",
    "\n",
    "#### Note: We will manually truncate the agent if episode_reward>500"
   ]
  },
  {
   "cell_type": "code",
   "execution_count": 10,
   "id": "81f4ec6f",
   "metadata": {},
   "outputs": [],
   "source": [
    "#Define empty list to store the total rewards obtained in each episode\n",
    "final_rewardArr = []\n",
    "\n",
    "#Running 100 episodes\n",
    "for episodes in range (100):\n",
    "    \n",
    "    #Reset the env and obtain the initial observation\n",
    "    discrete_state = get_discrete_state(env.reset()[0])\n",
    "    done = False\n",
    "    episode_reward = 0\n",
    "    \n",
    "    #Run episodes until done flag is set to True\n",
    "    while not done:\n",
    "\n",
    "        #Using Q-table to always choose the best action for current state\n",
    "        action = np.argmax(q_table[discrete_state])\n",
    "\n",
    "        #take chosen action in env and obtain new state, reward, and done flag\n",
    "        new_env = env.step(action)\n",
    "        new_state = new_env[0]\n",
    "        reward = new_env[1]\n",
    "        done = new_env[2]\n",
    "\n",
    "        #Add reward for the current step to the episode reward variable\n",
    "        episode_reward += reward\n",
    "\n",
    "        #Ending the episode also if it reached 500\n",
    "        if episode_reward >500:\n",
    "            done = True\n",
    "            \n",
    "        #Convert new state to its discrete equivalent and update discrete_state\n",
    "        new_discrete_state = get_discrete_state(new_state)\n",
    "        discrete_state = new_discrete_state\n",
    "        \n",
    "        #if episode is complete, reset env and obtain initial observation and discrete state\n",
    "        if done:\n",
    "            observation = env.reset()\n",
    "            discrete_state = get_discrete_state(observation[0])\n",
    "            \n",
    "    #Append the episode reward to the final_rewardArr list\n",
    "    final_rewardArr.append(episode_reward)\n",
    "env.close()"
   ]
  },
  {
   "cell_type": "markdown",
   "id": "f8b980db",
   "metadata": {},
   "source": [
    "# Plotting Graph "
   ]
  },
  {
   "cell_type": "code",
   "execution_count": 11,
   "id": "44dbefbd",
   "metadata": {},
   "outputs": [
    {
     "name": "stdout",
     "output_type": "stream",
     "text": [
      "Average cumulative reward:299.61\n",
      "Is my agent good enough? True\n"
     ]
    },
    {
     "data": {
      "image/png": "[encoded data removed]",
      "text/plain": [
       "<Figure size 432x288 with 1 Axes>"
      ]
     },
     "metadata": {
      "needs_background": "light"
     },
     "output_type": "display_data"
    }
   ],
   "source": [
    "plt.plot(final_rewardArr)\n",
    "\n",
    "\n",
    "print(\"Average cumulative reward:\" + str(np.mean(final_rewardArr)))\n",
    "print(\"Is my agent good enough? \" + str(np.mean(final_rewardArr) > 195))\n",
    "\n",
    "plt.title('Cumulative reward for each episode')\n",
    "plt.ylabel('Cumulative reward')\n",
    "plt.xlabel('episode')\n",
    "\n",
    "plt.show()"
   ]
  },
  {
   "cell_type": "markdown",
   "id": "d19bd341",
   "metadata": {},
   "source": [
    "As seen above, it is evident that our RL agent is good enough as our average cumulative reward is GREATER THAN 195. \n",
    "\n",
    "**Note: We have run the above codes 5 times and have, on average, gotten an average cumulative reward between 250-300. However, in earlier trials, there were times where the average cumulative reward is below those values. This may be due to the randomness involved in the code.**"
   ]
  },
  {
   "cell_type": "markdown",
   "id": "4aa16d97",
   "metadata": {},
   "source": [
    "# Task 3 - Rendering 1 Episode\n",
    "\n",
    "Here, we would be testing our trained agent by rendering 1 episode to see whether the pole is able to balance on the cart for a period of time. "
   ]
  },
  {
   "cell_type": "code",
   "execution_count": 13,
   "id": "11689b84",
   "metadata": {},
   "outputs": [
    {
     "name": "stdout",
     "output_type": "stream",
     "text": [
      "Could not find video\n",
      "279.0\n"
     ]
    }
   ],
   "source": [
    "#Set the initial value of episode_reward to 0\n",
    "episode_reward = 0\n",
    "\n",
    "#Creating instance of RecordVideo \n",
    "env = RecordVideo(gym.make(\"CartPole-v1\", render_mode=\"human\"),\"./video\")\n",
    "\n",
    "#Reset env and obtain initial observation and discrete state\n",
    "observation = env.reset()\n",
    "discrete_state = get_discrete_state(observation[0])\n",
    "\n",
    "\n",
    "done = False\n",
    "while not done:\n",
    "    env.render()\n",
    "    \n",
    "    #Determining action to take based on q_table values and select action with highest value\n",
    "    action = np.argmax(q_table[discrete_state])\n",
    "    \n",
    "    #take chosen action in env and obtain new state, reward, and done flag\n",
    "    new_env = env.step(action)\n",
    "    new_state = new_env[0]\n",
    "    reward = new_env[1]\n",
    "    done = new_env[2]\n",
    "    \n",
    "    #Add reward for the current step to the episode reward variable\n",
    "    episode_reward += reward\n",
    "    \n",
    "    #Convert new state to its discrete equivalent and update discrete_state\n",
    "    new_discrete_state = get_discrete_state(new_state)\n",
    "    discrete_state = new_discrete_state\n",
    "    \n",
    "    #if episode is complete, reset env and obtain initial observation and discrete state\n",
    "    if done:\n",
    "        observation = env.reset()\n",
    "        discrete_state = get_discrete_state(observation[0])\n",
    "\n",
    "env.close()\n",
    "show_video()\n",
    "print(episode_reward)"
   ]
  },
  {
   "cell_type": "markdown",
   "id": "0353973c",
   "metadata": {},
   "source": [
    "# Conclusion\n"
   ]
  },
  {
   "cell_type": "markdown",
   "id": "651194ff",
   "metadata": {},
   "source": [
    "After training our agent using the **Q-learning algorithm** with carefully selected hyperparameters such as a **learning rate of 0.2**, a **discount factor of 1** and running the training process for **50,000 episodes**, we were able to achieve an **average cumulative reward greater than 195 over the course of 100 episodes**. This indicates that our agent has learned an effective strategy for balancing the cartpole.\n",
    "\n",
    "Furthermore, we were able to successfully render one episode of our trained agent, demonstrating that our model can perform well in a real-world scenario. By using a Q-table and carefully selecting hyperparameters, we were able to create an effective reinforcement learning model that can solve the cartpole problem."
   ]
  }
 ],
 "metadata": {
  "kernelspec": {
   "display_name": "Python 3.11.2 64-bit",
   "language": "python",
   "name": "python3"
  },
  "language_info": {
   "codemirror_mode": {
    "name": "ipython",
    "version": 3
   },
   "file_extension": ".py",
   "mimetype": "text/x-python",
   "name": "python",
   "nbconvert_exporter": "python",
   "pygments_lexer": "ipython3",
   "version": "3.11.2"
  },
  "vscode": {
   "interpreter": {
    "hash": "b0fa6594d8f4cbf19f97940f81e996739fb7646882a419484c72d19e05852a7e"
   }
  }
 },
 "nbformat": 4,
 "nbformat_minor": 5
}
