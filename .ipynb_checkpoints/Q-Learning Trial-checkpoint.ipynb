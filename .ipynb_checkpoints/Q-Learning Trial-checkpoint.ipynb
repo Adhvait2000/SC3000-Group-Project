{
 "cells": [
  {
   "cell_type": "code",
   "execution_count": 3,
   "id": "0dbe417f",
   "metadata": {},
   "outputs": [],
   "source": [
    "\n",
    "import gym\n",
    "from gym import logger as gymlogger\n",
    "from gym.wrappers import RecordVideo\n",
    "gymlogger.set_level(40) #error only\n",
    "#import tensorflow as tf\n",
    "import numpy as np\n",
    "import random\n",
    "import matplotlib\n",
    "import matplotlib.pyplot as plt\n",
    "%matplotlib inline\n",
    "import math\n",
    "import glob\n",
    "import io\n",
    "import base64\n",
    "from IPython.display import HTML\n",
    "from IPython import display as ipythondisplay\n",
    "\n",
    "def show_video():\n",
    "  mp4list = glob.glob('video/*.mp4')\n",
    "  if len(mp4list) > 0:\n",
    "    mp4 = mp4list[0]\n",
    "    video = io.open(mp4, 'r+b').read()\n",
    "    encoded = base64.b64encode(video)\n",
    "    ipythondisplay.display(HTML(data='''<video alt=\"test\" autoplay \n",
    "                loop controls style=\"height: 400px;\">\n",
    "                <source src=\"data:video/mp4;base64,{0}\" type=\"video/mp4\" />\n",
    "             </video>'''.format(encoded.decode('ascii'))))\n",
    "  else: \n",
    "    print(\"Could not find video\")"
   ]
  },
  {
   "cell_type": "code",
   "execution_count": 4,
   "id": "a0fa94e0",
   "metadata": {},
   "outputs": [],
   "source": [
    "env = gym.make(\"CartPole-v1\")"
   ]
  },
  {
   "cell_type": "markdown",
   "id": "6e06b072",
   "metadata": {},
   "source": [
    "## Initialize variables"
   ]
  },
  {
   "cell_type": "code",
   "execution_count": 5,
   "id": "ea4876c0",
   "metadata": {},
   "outputs": [
    {
     "name": "stdout",
     "output_type": "stream",
     "text": [
      "[ 0.0492523  -0.22148183 -0.0369544   0.32068968]\n",
      "-0.04\n"
     ]
    }
   ],
   "source": [
    "#LEARNING_RATE = 0.1\n",
    "LEARNING_RATE = 0.1\n",
    "\n",
    "DISCOUNT = 0.99 #instead of 0.95\n",
    "EPISODES = 60000\n",
    "total = 0\n",
    "total_reward = 0\n",
    "\n",
    "#0.25, 0.25, 0.01, 0.1\n",
    "#Observation = [30, 30, 50, 50]\n",
    "Observation = [30, 30, 50, 50]\n",
    "#np_array_win_size = np.array([0.1, 0.1, 0.01, 0.1])\n",
    "np_array_win_size = np.array([0.1, 0.1, 0.01, 0.1])\n",
    "\n",
    "epsilon = 0.9\n",
    "epsilon_decay = 0.995\n",
    "epsilon_min = 0.1\n",
    "epsilon_max = 0.95\n",
    "\n",
    "prev_mean = 0\n",
    "obs = env.reset()\n",
    "\n",
    "\n",
    "new_env = env.step(0)[0]\n",
    "print(new_env)\n",
    "print(round(new_env[2], 2))"
   ]
  },
  {
   "cell_type": "markdown",
   "id": "f5636e52",
   "metadata": {},
   "source": [
    "## Create Q table"
   ]
  },
  {
   "cell_type": "code",
   "execution_count": 6,
   "id": "2bd47369",
   "metadata": {},
   "outputs": [
    {
     "data": {
      "text/plain": [
       "(30, 30, 50, 50, 2)"
      ]
     },
     "execution_count": 6,
     "metadata": {},
     "output_type": "execute_result"
    }
   ],
   "source": [
    "q_table = np.zeros((Observation + [env.action_space.n]))\n",
    "q_table.shape"
   ]
  },
  {
   "cell_type": "markdown",
   "id": "4b370e01",
   "metadata": {},
   "source": [
    "## Getting discrete state"
   ]
  },
  {
   "cell_type": "code",
   "execution_count": 7,
   "id": "a5a72593",
   "metadata": {},
   "outputs": [
    {
     "name": "stdout",
     "output_type": "stream",
     "text": [
      "(55, -10, 42, 16)\n"
     ]
    }
   ],
   "source": [
    "def get_discrete_state(state):\n",
    "    \n",
    "    #Given a state, round to the nearest 0.25\n",
    "    #divide by the window size to find which bucket it belongs to\n",
    "    #discrete_state =np.array([np.round(state[0]*4)/4, np.round(state[1] *4) /4, np.round(state[2], 1) ,np.round(state[3], 1)])\n",
    "    #discrete_state =np.array([np.round(state[0]*2)/2, np.round(state[1] *2) /2, np.round(state[2]* 2)/2 ,np.round(state[3]* 2)/2])\n",
    "    discrete_state = state/np_array_win_size+ np.array([15,10,1,10])\n",
    "    #discrete_state = (discrete_state/np_array_win_size)\n",
    "    #print(discrete_state)\n",
    "    return tuple(discrete_state.astype(int))\n",
    "\n",
    "\n",
    "print(get_discrete_state([4, -2, 0.418, 0.63751878]))"
   ]
  },
  {
   "cell_type": "markdown",
   "id": "61f1e4e8",
   "metadata": {},
   "source": [
    "## Running"
   ]
  },
  {
   "cell_type": "code",
   "execution_count": null,
   "id": "0d932b6b",
   "metadata": {},
   "outputs": [
    {
     "name": "stdout",
     "output_type": "stream",
     "text": [
      "Episode: 0\n",
      "Mean Reward: 0.009\n",
      "improving\n",
      "Mean Reward: 10.906\n",
      "improving\n",
      "Episode: 2000\n",
      "Mean Reward: 10.883\n",
      "Mean Reward: 10.986\n",
      "Episode: 4000\n",
      "Mean Reward: 11.136\n",
      "Mean Reward: 11.496\n",
      "Episode: 6000\n",
      "Mean Reward: 11.539\n",
      "Mean Reward: 11.878\n",
      "Episode: 8000\n",
      "Mean Reward: 12.381\n",
      "Mean Reward: 12.928\n",
      "Episode: 10000\n",
      "Mean Reward: 13.515\n",
      "Mean Reward: 14.112\n",
      "Episode: 12000\n",
      "Mean Reward: 15.146\n",
      "Mean Reward: 15.837\n",
      "Episode: 14000\n",
      "Mean Reward: 16.933\n",
      "Mean Reward: 18.689\n",
      "improving\n",
      "Episode: 16000\n",
      "Mean Reward: 19.097\n",
      "Mean Reward: 20.002\n",
      "Episode: 18000\n",
      "Mean Reward: 20.846\n",
      "Mean Reward: 22.032\n",
      "Episode: 20000\n",
      "Mean Reward: 23.26\n",
      "Mean Reward: 26.375\n",
      "improving\n",
      "Episode: 22000\n",
      "Mean Reward: 29.011\n",
      "Mean Reward: 31.418\n",
      "Episode: 24000\n",
      "Mean Reward: 32.844\n",
      "Mean Reward: 34.286\n",
      "Episode: 26000\n",
      "Mean Reward: 40.164\n",
      "improving\n",
      "Mean Reward: 45.122\n",
      "improving\n",
      "Episode: 28000\n",
      "Mean Reward: 53.044\n",
      "improving\n",
      "Mean Reward: 53.856\n",
      "Episode: 30000\n",
      "Mean Reward: 58.466\n",
      "Mean Reward: 60.968\n",
      "Episode: 32000\n",
      "Mean Reward: 65.686\n",
      "Mean Reward: 76.654\n",
      "improving\n",
      "Episode: 34000\n",
      "Mean Reward: 77.226\n",
      "Mean Reward: 106.154\n",
      "improving\n",
      "Episode: 36000\n",
      "Mean Reward: 133.777\n",
      "improving\n",
      "Mean Reward: 145.938\n",
      "Episode: 38000\n",
      "Mean Reward: 143.939\n",
      "Mean Reward: 190.796\n",
      "improving\n",
      "Episode: 40000\n",
      "Mean Reward: 205.053\n",
      "Mean Reward: 164.327\n",
      "Decaying\n",
      "Episode: 42000\n",
      "Mean Reward: 142.81\n",
      "Decaying\n"
     ]
    }
   ],
   "source": [
    "for episode in range(EPISODES): \n",
    "\n",
    "    discrete_state = get_discrete_state(env.reset()[0])  \n",
    "  \n",
    "    done = False\n",
    "    episode_reward = 0 \n",
    "    \n",
    "    #update every 2000 episodes\n",
    "    if episode % 2000 == 0: \n",
    "        print(\"Episode: \" + str(episode))\n",
    "    \n",
    "\n",
    "    while not done: \n",
    "        #Always get max for now\n",
    "        if np.random.random() < epsilon:\n",
    "            action = np.argmax(q_table[discrete_state]) \n",
    "        else:\n",
    "            action = np.random.randint(0, env.action_space.n) \n",
    "        new_env = env.step(action)\n",
    "        new_state = new_env[0]\n",
    "        reward = new_env[1]\n",
    "        done = new_env[2]\n",
    "        episode_reward += reward \n",
    "\n",
    "        new_discrete_state = get_discrete_state(new_state)\n",
    "\n",
    "        if not done: \n",
    "            \n",
    "            max_future_q = np.max(q_table[new_discrete_state])\n",
    "\n",
    "            current_q = q_table[discrete_state + (action,)]\n",
    "\n",
    "            new_q = (1-LEARNING_RATE)*current_q + LEARNING_RATE * (reward + DISCOUNT * max_future_q)\n",
    "            #new_q = current_q + LEARNING_RATE * (reward + DISCOUNT*(max_future_q) - current_q)\n",
    "            q_table[discrete_state + (action,)] = new_q\n",
    "\n",
    "        discrete_state = new_discrete_state\n",
    "\n",
    "    total_reward += episode_reward\n",
    "\n",
    "    \n",
    "    if episode % 1000 == 0: \n",
    "        \n",
    "        mean_reward = total_reward / 1000    \n",
    "        print(\"Mean Reward: \" + str(mean_reward))\n",
    "        if (mean_reward < (prev_mean * 0.95) and epsilon > epsilon_min):\n",
    "            print(\"Decaying\")\n",
    "            epsilon *= epsilon_decay\n",
    "        if (mean_reward > (prev_mean * 1.1) and epsilon < epsilon_max):\n",
    "            print(\"improving\")\n",
    "            epsilon /= epsilon_decay\n",
    "        prev_mean = mean_reward\n",
    "        total_reward = 0\n",
    "\n",
    "\n",
    "env.close()"
   ]
  },
  {
   "cell_type": "code",
   "execution_count": null,
   "id": "55cb0036",
   "metadata": {},
   "outputs": [],
   "source": []
  },
  {
   "cell_type": "code",
   "execution_count": null,
   "id": "216b5cb3",
   "metadata": {},
   "outputs": [],
   "source": []
  }
 ],
 "metadata": {
  "kernelspec": {
   "display_name": "Python 3 (ipykernel)",
   "language": "python",
   "name": "python3"
  },
  "language_info": {
   "codemirror_mode": {
    "name": "ipython",
    "version": 3
   },
   "file_extension": ".py",
   "mimetype": "text/x-python",
   "name": "python",
   "nbconvert_exporter": "python",
   "pygments_lexer": "ipython3",
   "version": "3.9.7"
  },
  "vscode": {
   "interpreter": {
    "hash": "92361ee8e2b06bac26a566b753db2e25e7234cd8d452172de359c96208a03254"
   }
  }
 },
 "nbformat": 4,
 "nbformat_minor": 5
}
