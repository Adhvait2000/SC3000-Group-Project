{
 "cells": [
  {
   "cell_type": "code",
   "execution_count": 49,
   "id": "e69d739d",
   "metadata": {},
   "outputs": [
    {
     "ename": "SyntaxError",
     "evalue": "invalid syntax (Temp/ipykernel_26996/1469695481.py, line 1)",
     "output_type": "error",
     "traceback": [
      "\u001b[1;36m  File \u001b[1;32m\"C:\\Users\\weiyu\\AppData\\Local\\Temp/ipykernel_26996/1469695481.py\"\u001b[1;36m, line \u001b[1;32m1\u001b[0m\n\u001b[1;33m    pip install gym pyvirtualdisplay > /dev/null 2>&1\u001b[0m\n\u001b[1;37m        ^\u001b[0m\n\u001b[1;31mSyntaxError\u001b[0m\u001b[1;31m:\u001b[0m invalid syntax\n"
     ]
    }
   ],
   "source": []
  },
  {
   "cell_type": "code",
   "execution_count": 2,
   "id": "0dbe417f",
   "metadata": {},
   "outputs": [],
   "source": [
    "\n",
    "import gym\n",
    "from gym import logger as gymlogger\n",
    "from gym.wrappers import RecordVideo\n",
    "gymlogger.set_level(40) #error only\n",
    "#import tensorflow as tf\n",
    "import numpy as np\n",
    "import random\n",
    "import matplotlib\n",
    "import matplotlib.pyplot as plt\n",
    "%matplotlib inline\n",
    "import math\n",
    "import glob\n",
    "import io\n",
    "import base64\n",
    "from IPython.display import HTML\n",
    "from IPython import display as ipythondisplay\n",
    "\n",
    "def show_video():\n",
    "  mp4list = glob.glob('video/*.mp4')\n",
    "  if len(mp4list) > 0:\n",
    "    mp4 = mp4list[0]\n",
    "    video = io.open(mp4, 'r+b').read()\n",
    "    encoded = base64.b64encode(video)\n",
    "    ipythondisplay.display(HTML(data='''<video alt=\"test\" autoplay \n",
    "                loop controls style=\"height: 400px;\">\n",
    "                <source src=\"data:video/mp4;base64,{0}\" type=\"video/mp4\" />\n",
    "             </video>'''.format(encoded.decode('ascii'))))\n",
    "  else: \n",
    "    print(\"Could not find video\")"
   ]
  },
  {
   "cell_type": "code",
   "execution_count": 3,
   "id": "a0fa94e0",
   "metadata": {},
   "outputs": [],
   "source": [
    "env = gym.make(\"CartPole-v1\")"
   ]
  },
  {
   "cell_type": "markdown",
   "id": "6e06b072",
   "metadata": {},
   "source": [
    "## Initialize variables"
   ]
  },
  {
   "cell_type": "code",
   "execution_count": 95,
   "id": "ea4876c0",
   "metadata": {},
   "outputs": [
    {
     "name": "stdout",
     "output_type": "stream",
     "text": [
      "[ 8.0382861e-03 -2.4367590e-01  1.5835793e-04  2.6480407e-01]\n",
      "0.0\n"
     ]
    }
   ],
   "source": [
    "LEARNING_RATE = 0.1\n",
    "\n",
    "DISCOUNT = 0.95\n",
    "EPISODES = 60000\n",
    "total = 0\n",
    "total_reward = 0\n",
    "\n",
    "\n",
    "Observation = [30, 30, 50, 50]\n",
    "np_array_win_size = np.array([0.25, 0.25, 0.01, 0.1])\n",
    "\n",
    "epsilon = 0.9\n",
    "epsilon_decay = 0.99\n",
    "epsilon_min = 0.5\n",
    "epsilon_max = 0.9\n",
    "\n",
    "prev_mean = 0\n",
    "obs = env.reset()\n",
    "\n",
    "\n",
    "new_env = env.step(0)[0]\n",
    "print(new_env)\n",
    "print(round(new_env[2], 2))"
   ]
  },
  {
   "cell_type": "markdown",
   "id": "f5636e52",
   "metadata": {},
   "source": [
    "## Create Q table"
   ]
  },
  {
   "cell_type": "code",
   "execution_count": 96,
   "id": "2bd47369",
   "metadata": {},
   "outputs": [
    {
     "data": {
      "text/plain": [
       "(30, 30, 50, 50, 2)"
      ]
     },
     "execution_count": 96,
     "metadata": {},
     "output_type": "execute_result"
    }
   ],
   "source": [
    "q_table = np.random.uniform(low=0, high=1, size=(Observation + [env.action_space.n]))\n",
    "q_table.shape"
   ]
  },
  {
   "cell_type": "markdown",
   "id": "4b370e01",
   "metadata": {},
   "source": [
    "## Getting discrete state"
   ]
  },
  {
   "cell_type": "code",
   "execution_count": 97,
   "id": "a5a72593",
   "metadata": {},
   "outputs": [
    {
     "name": "stdout",
     "output_type": "stream",
     "text": [
      "(31, 2, 42, 16)\n"
     ]
    }
   ],
   "source": [
    "def get_discrete_state(state):\n",
    "    \n",
    "    #Given a state, round to the nearest 0.25\n",
    "    #divide by the window size to find which bucket it belongs to\n",
    "    #discrete_state =np.array([np.round(state[0]*4)/4, np.round(state[1] *4) /4, np.round(state[2], 1) ,np.round(state[3], 1)])\n",
    "    #discrete_state =np.array([np.round(state[0]*2)/2, np.round(state[1] *2) /2, np.round(state[2]* 2)/2 ,np.round(state[3]* 2)/2])\n",
    "    discrete_state = state/np_array_win_size+ np.array([15,10,1,10])\n",
    "    #discrete_state = (discrete_state/np_array_win_size)\n",
    "    #print(discrete_state)\n",
    "    return tuple(discrete_state.astype(int))\n",
    "\n",
    "\n",
    "print(get_discrete_state([4, -2, 0.418, 0.63751878]))"
   ]
  },
  {
   "cell_type": "markdown",
   "id": "61f1e4e8",
   "metadata": {},
   "source": [
    "## Running"
   ]
  },
  {
   "cell_type": "code",
   "execution_count": null,
   "id": "0d932b6b",
   "metadata": {},
   "outputs": [
    {
     "name": "stdout",
     "output_type": "stream",
     "text": [
      "Episode: 0\n",
      "Mean Reward: 0.022\n",
      "Mean Reward: 28.029\n",
      "Episode: 2000\n",
      "Mean Reward: 28.524\n",
      "Mean Reward: 29.146\n",
      "Episode: 4000\n",
      "Mean Reward: 30.382\n",
      "Mean Reward: 31.847\n",
      "Episode: 6000\n",
      "Mean Reward: 38.205\n",
      "Mean Reward: 39.995\n",
      "Episode: 8000\n",
      "Mean Reward: 48.926\n",
      "Mean Reward: 53.287\n",
      "Episode: 10000\n",
      "Mean Reward: 64.394\n",
      "Mean Reward: 80.574\n",
      "Episode: 12000\n",
      "Mean Reward: 92.056\n",
      "Mean Reward: 120.26\n",
      "Episode: 14000\n",
      "Mean Reward: 116.311\n",
      "Mean Reward: 157.515\n",
      "Episode: 16000\n",
      "Mean Reward: 153.507\n",
      "Mean Reward: 165.058\n",
      "Episode: 18000\n",
      "Mean Reward: 138.163\n",
      "Decaying\n",
      "Mean Reward: 143.677\n",
      "Episode: 20000\n",
      "Mean Reward: 176.849\n",
      "improving\n",
      "Mean Reward: 218.282\n",
      "Episode: 22000\n",
      "Mean Reward: 231.947\n",
      "Mean Reward: 181.507\n",
      "Decaying\n",
      "Episode: 24000\n",
      "Mean Reward: 214.97\n",
      "improving\n",
      "Mean Reward: 231.295\n",
      "Episode: 26000\n",
      "Mean Reward: 256.854\n",
      "Mean Reward: 227.128\n",
      "Decaying\n",
      "Episode: 28000\n",
      "Mean Reward: 212.81\n",
      "Decaying\n",
      "Mean Reward: 215.021\n",
      "Episode: 30000\n",
      "Mean Reward: 187.982\n",
      "Decaying\n",
      "Mean Reward: 190.334\n",
      "Episode: 32000\n",
      "Mean Reward: 191.657\n",
      "Mean Reward: 184.798\n"
     ]
    }
   ],
   "source": [
    "for episode in range(EPISODES): \n",
    "\n",
    "    discrete_state = get_discrete_state(env.reset()[0])  \n",
    "  \n",
    "    done = False\n",
    "    episode_reward = 0 \n",
    "    \n",
    "    #update every 2000 episodes\n",
    "    if episode % 2000 == 0: \n",
    "        print(\"Episode: \" + str(episode))\n",
    "    \n",
    "\n",
    "    while not done: \n",
    "        #Always get max for now\n",
    "        if np.random.random() < epsilon:\n",
    "            action = np.argmax(q_table[discrete_state]) \n",
    "        else:\n",
    "            action = np.random.randint(0, env.action_space.n) \n",
    "        new_env = env.step(action)\n",
    "        new_state = new_env[0]\n",
    "        reward = new_env[1]\n",
    "        done = new_env[2]\n",
    "        episode_reward += reward \n",
    "\n",
    "        new_discrete_state = get_discrete_state(new_state)\n",
    "\n",
    "        if not done: \n",
    "            \n",
    "            max_future_q = np.max(q_table[new_discrete_state])\n",
    "\n",
    "            current_q = q_table[discrete_state + (action,)]\n",
    "\n",
    "            new_q = (1-LEARNING_RATE)*current_q + LEARNING_RATE * (reward + DISCOUNT * max_future_q)\n",
    "            #new_q = current_q + LEARNING_RATE * (reward + DISCOUNT*(max_future_q) - current_q)\n",
    "            q_table[discrete_state + (action,)] = new_q\n",
    "\n",
    "        discrete_state = new_discrete_state\n",
    "\n",
    "    total_reward += episode_reward\n",
    "\n",
    "    \n",
    "    if episode % 1000 == 0: \n",
    "        \n",
    "        mean_reward = total_reward / 1000    \n",
    "        print(\"Mean Reward: \" + str(mean_reward))\n",
    "        if (mean_reward < (prev_mean * 0.95) and epsilon > epsilon_min):\n",
    "            print(\"Decaying\")\n",
    "            epsilon *= epsilon_decay\n",
    "        if (mean_reward > (prev_mean * 1.1) and epsilon < epsilon_max):\n",
    "            print(\"improving\")\n",
    "            epsilon /= epsilon_decay\n",
    "        prev_mean = mean_reward\n",
    "        total_reward = 0\n",
    "        \n",
    "\n",
    "env.close()"
   ]
  },
  {
   "cell_type": "code",
   "execution_count": null,
   "id": "55cb0036",
   "metadata": {},
   "outputs": [],
   "source": []
  },
  {
   "cell_type": "code",
   "execution_count": null,
   "id": "20f0a069",
   "metadata": {},
   "outputs": [],
   "source": []
  }
 ],
 "metadata": {
  "kernelspec": {
   "display_name": "Python 3 (ipykernel)",
   "language": "python",
   "name": "python3"
  },
  "language_info": {
   "codemirror_mode": {
    "name": "ipython",
    "version": 3
   },
   "file_extension": ".py",
   "mimetype": "text/x-python",
   "name": "python",
   "nbconvert_exporter": "python",
   "pygments_lexer": "ipython3",
   "version": "3.9.7"
  },
  "vscode": {
   "interpreter": {
    "hash": "92361ee8e2b06bac26a566b753db2e25e7234cd8d452172de359c96208a03254"
   }
  }
 },
 "nbformat": 4,
 "nbformat_minor": 5
}
