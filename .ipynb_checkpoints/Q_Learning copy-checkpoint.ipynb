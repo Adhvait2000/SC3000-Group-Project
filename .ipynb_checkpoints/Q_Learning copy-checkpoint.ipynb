{
 "cells": [
  {
   "cell_type": "code",
   "execution_count": 116,
   "id": "0dbe417f",
   "metadata": {},
   "outputs": [],
   "source": [
    "import gym\n",
    "from gym import logger as gymlogger\n",
    "from gym.wrappers import RecordVideo\n",
    "gymlogger.set_level(40) #error only\n",
    "#import tensorflow as tf\n",
    "import numpy as np\n",
    "import random\n",
    "import matplotlib\n",
    "import matplotlib.pyplot as plt\n",
    "%matplotlib inline\n",
    "import math\n",
    "import glob\n",
    "import io\n",
    "import base64\n",
    "from IPython.display import HTML\n",
    "from IPython import display as ipythondisplay\n",
    "\n",
    "def show_video():\n",
    "  mp4list = glob.glob('video/*.mp4')\n",
    "  if len(mp4list) > 0:\n",
    "    mp4 = mp4list[0]\n",
    "    video = io.open(mp4, 'r+b').read()\n",
    "    encoded = base64.b64encode(video)\n",
    "    ipythondisplay.display(HTML(data='''<video alt=\"test\" autoplay \n",
    "                loop controls style=\"height: 400px;\">\n",
    "                <source src=\"data:video/mp4;base64,{0}\" type=\"video/mp4\" />\n",
    "             </video>'''.format(encoded.decode('ascii'))))\n",
    "  else: \n",
    "    print(\"Could not find video\")"
   ]
  },
  {
   "cell_type": "code",
   "execution_count": 117,
   "id": "a0fa94e0",
   "metadata": {},
   "outputs": [],
   "source": [
    "#Making the environment\n",
    "env = gym.make(\"CartPole-v1\")"
   ]
  },
  {
   "cell_type": "markdown",
   "id": "6e06b072",
   "metadata": {},
   "source": [
    "## Initialize variables"
   ]
  },
  {
   "cell_type": "code",
   "execution_count": 118,
   "id": "ea4876c0",
   "metadata": {
    "scrolled": true
   },
   "outputs": [
    {
     "name": "stdout",
     "output_type": "stream",
     "text": [
      "[-0.04256266 -0.22426063 -0.00425448  0.33368134]\n",
      "-0.0\n"
     ]
    }
   ],
   "source": [
    "#Defining Hypermeters\n",
    "#LEARNING_RATE = 0.1\n",
    "LEARNING_RATE = 0.1\n",
    "\n",
    "DISCOUNT = 0.99 #instead of 0.95\n",
    "EPISODES = 60000\n",
    "total = 0\n",
    "total_reward = 0\n",
    "\n",
    "#0.25, 0.25, 0.01, 0.1\n",
    "# Define observation and window size\n",
    "Observation = [30, 30, 50, 50]\n",
    "np_array_win_size = np.array([0.5, 0.5, 0.05, 0.5])\n",
    "\n",
    "epsilon = 1\n",
    "epsilon_decay = 0.995\n",
    "epsilon_min = 0.05\n",
    "\n",
    "epsilon_decay_rate = (1 - epsilon_min)/30000\n",
    "\n",
    "prev_mean = 0\n",
    "obs = env.reset()\n",
    "\n",
    "\n",
    "new_env = env.step(0)[0]\n",
    "print(new_env)\n",
    "print(round(new_env[2], 2))"
   ]
  },
  {
   "cell_type": "markdown",
   "id": "f5636e52",
   "metadata": {},
   "source": [
    "## Create Q table"
   ]
  },
  {
   "cell_type": "code",
   "execution_count": 119,
   "id": "2bd47369",
   "metadata": {},
   "outputs": [
    {
     "data": {
      "text/plain": [
       "(30, 30, 50, 50, 2)"
      ]
     },
     "execution_count": 119,
     "metadata": {},
     "output_type": "execute_result"
    }
   ],
   "source": [
    "#Creating the q table\n",
    "q_table = np.zeros((Observation + [env.action_space.n]))\n",
    "q_table.shape"
   ]
  },
  {
   "cell_type": "markdown",
   "id": "4b370e01",
   "metadata": {},
   "source": [
    "## Getting discrete state"
   ]
  },
  {
   "cell_type": "code",
   "execution_count": 120,
   "id": "a5a72593",
   "metadata": {},
   "outputs": [
    {
     "name": "stdout",
     "output_type": "stream",
     "text": [
      "(29, 9, 29, 16)\n"
     ]
    }
   ],
   "source": [
    "def get_discrete_state(state):\n",
    "    discrete_state = []\n",
    "    for i in range(len(state)):\n",
    "        if state[i] <= observation[i][0]:\n",
    "            discrete_state.append(0)\n",
    "        elif state[i] >= observation[i][1]:\n",
    "            discrete_state.append(29)\n",
    "        else:\n",
    "            discrete_state.append(int((state[i] - observation[i][0]) / win_size[i]))\n",
    "    return tuple(np.array(discrete_state).astype(int))\n",
    "\n",
    "\n",
    "\n",
    "print(get_discrete_state([4, -2, 0.418, 0.63751878]))"
   ]
  },
  {
   "cell_type": "markdown",
   "id": "61f1e4e8",
   "metadata": {},
   "source": [
    "## Running"
   ]
  },
  {
   "cell_type": "code",
   "execution_count": 122,
   "id": "0d932b6b",
   "metadata": {},
   "outputs": [
    {
     "name": "stdout",
     "output_type": "stream",
     "text": [
      "Episode: 0\n",
      "Mean Reward: 215.54\n",
      "Mean Reward: 215.471\n",
      "Episode: 2000\n",
      "Mean Reward: 222.023\n",
      "Mean Reward: 208.172\n",
      "Episode: 4000\n",
      "Mean Reward: 229.556\n",
      "Mean Reward: 202.652\n",
      "Episode: 6000\n",
      "Mean Reward: 199.421\n",
      "Mean Reward: 217.555\n",
      "Episode: 8000\n",
      "Mean Reward: 269.987\n",
      "Mean Reward: 252.425\n",
      "Episode: 10000\n",
      "Mean Reward: 232.949\n",
      "Mean Reward: 217.156\n",
      "Episode: 12000\n",
      "Mean Reward: 202.509\n",
      "Mean Reward: 193.435\n",
      "Episode: 14000\n",
      "Mean Reward: 210.068\n",
      "Mean Reward: 216.693\n",
      "Episode: 16000\n",
      "Mean Reward: 250.234\n",
      "Mean Reward: 256.363\n",
      "Episode: 18000\n",
      "Mean Reward: 236.576\n",
      "Mean Reward: 224.106\n",
      "Episode: 20000\n",
      "Mean Reward: 230.125\n",
      "Mean Reward: 223.558\n",
      "Episode: 22000\n",
      "Mean Reward: 224.231\n",
      "Mean Reward: 243.529\n",
      "Episode: 24000\n",
      "Mean Reward: 241.641\n",
      "Mean Reward: 248.198\n",
      "Episode: 26000\n",
      "Mean Reward: 256.66\n",
      "Mean Reward: 247.259\n",
      "Episode: 28000\n",
      "Mean Reward: 253.566\n",
      "Mean Reward: 226.226\n",
      "Episode: 30000\n",
      "Mean Reward: 222.756\n",
      "Mean Reward: 234.577\n",
      "Episode: 32000\n",
      "Mean Reward: 238.282\n",
      "Mean Reward: 248.338\n",
      "Episode: 34000\n",
      "Mean Reward: 240.405\n",
      "Mean Reward: 246.244\n",
      "Episode: 36000\n",
      "Mean Reward: 248.796\n",
      "Mean Reward: 234.407\n",
      "Episode: 38000\n",
      "Mean Reward: 226.325\n",
      "Mean Reward: 248.587\n",
      "Episode: 40000\n",
      "Mean Reward: 270.645\n",
      "Mean Reward: 270.197\n",
      "Episode: 42000\n",
      "Mean Reward: 289.812\n",
      "Mean Reward: 276.898\n",
      "Episode: 44000\n",
      "Mean Reward: 267.032\n",
      "Mean Reward: 295.166\n",
      "Episode: 46000\n",
      "Mean Reward: 284.024\n",
      "Mean Reward: 288.052\n",
      "Episode: 48000\n",
      "Mean Reward: 269.868\n",
      "Mean Reward: 273.973\n",
      "Episode: 50000\n",
      "Mean Reward: 287.526\n",
      "Mean Reward: 274.035\n",
      "Episode: 52000\n",
      "Mean Reward: 289.264\n",
      "Mean Reward: 287.552\n",
      "Episode: 54000\n",
      "Mean Reward: 290.227\n",
      "Mean Reward: 316.968\n",
      "Episode: 56000\n",
      "Mean Reward: 318.109\n",
      "Mean Reward: 309.759\n",
      "Episode: 58000\n",
      "Mean Reward: 301.223\n",
      "Mean Reward: 301.074\n"
     ]
    }
   ],
   "source": [
    "#Training the agent\n",
    "for episode in range(EPISODES):\n",
    "\n",
    "    discrete_state = get_discrete_state(env.reset()[0])\n",
    "    done = False\n",
    "    episode_reward = 0\n",
    "    episode_length = 0\n",
    "    \n",
    "    # update every 2000 episodes\n",
    "    if episode % 2000 == 0:\n",
    "        print(\"Episode: \" + str(episode))\n",
    "\n",
    "    while not done:\n",
    "        \n",
    "      \n",
    "        if np.random.random() < epsilon:\n",
    "            action = np.argmax(q_table[discrete_state])\n",
    "        else:\n",
    "            action = np.random.randint(0, env.action_space.n)\n",
    "        \n",
    "        new_env = env.step(action)\n",
    "        new_state = new_env[0]\n",
    "        reward = new_env[1]\n",
    "        done = new_env[2]\n",
    "        episode_reward += reward\n",
    "        episode_length += 1\n",
    "        \n",
    "        new_discrete_state = get_discrete_state(new_state)\n",
    "\n",
    "        if not done:\n",
    "            max_future_q = np.max(q_table[new_discrete_state])\n",
    "            current_q = q_table[discrete_state + (action,)]\n",
    "            new_q = (1 - LEARNING_RATE) * current_q + LEARNING_RATE * (reward + DISCOUNT * max_future_q)\n",
    "            q_table[discrete_state + (action,)] = new_q\n",
    "\n",
    "        discrete_state = new_discrete_state\n",
    "        \n",
    "        # check termination conditions\n",
    "        if abs(new_state[0]) > 2.4 or abs(new_state[2]) > np.radians(12) or episode_length > 500:\n",
    "            done = True\n",
    "            \n",
    "    total_reward += episode_reward\n",
    "    \n",
    "    if episode % 1000 == 0:\n",
    "        mean_reward = total_reward / 1000\n",
    "        print(\"Mean Reward: \" + str(mean_reward))\n",
    "        \n",
    "        prev_mean = mean_reward\n",
    "        total_reward = 0\n",
    "\n",
    "env.close()\n"
   ]
  },
  {
   "cell_type": "code",
   "execution_count": null,
   "id": "55cb0036",
   "metadata": {},
   "outputs": [],
   "source": []
  },
  {
   "cell_type": "code",
   "execution_count": null,
   "id": "216b5cb3",
   "metadata": {},
   "outputs": [],
   "source": []
  }
 ],
 "metadata": {
  "kernelspec": {
   "display_name": "Python 3 (ipykernel)",
   "language": "python",
   "name": "python3"
  },
  "language_info": {
   "codemirror_mode": {
    "name": "ipython",
    "version": 3
   },
   "file_extension": ".py",
   "mimetype": "text/x-python",
   "name": "python",
   "nbconvert_exporter": "python",
   "pygments_lexer": "ipython3",
   "version": "3.9.7"
  },
  "vscode": {
   "interpreter": {
    "hash": "b0fa6594d8f4cbf19f97940f81e996739fb7646882a419484c72d19e05852a7e"
   }
  }
 },
 "nbformat": 4,
 "nbformat_minor": 5
}
