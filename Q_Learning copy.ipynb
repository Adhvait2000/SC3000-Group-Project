{
 "cells": [
  {
   "cell_type": "code",
   "execution_count": 1,
   "id": "0dbe417f",
   "metadata": {},
   "outputs": [],
   "source": [
    "import gym\n",
    "from gym import logger as gymlogger\n",
    "from gym.wrappers import RecordVideo\n",
    "gymlogger.set_level(40) #error only\n",
    "#import tensorflow as tf\n",
    "import numpy as np\n",
    "import random\n",
    "import matplotlib\n",
    "import matplotlib.pyplot as plt\n",
    "%matplotlib inline\n",
    "import math\n",
    "import glob\n",
    "import io\n",
    "import base64\n",
    "from IPython.display import HTML\n",
    "from IPython import display as ipythondisplay\n",
    "\n",
    "def show_video():\n",
    "  mp4list = glob.glob('video/*.mp4')\n",
    "  if len(mp4list) > 0:\n",
    "    mp4 = mp4list[0]\n",
    "    video = io.open(mp4, 'r+b').read()\n",
    "    encoded = base64.b64encode(video)\n",
    "    ipythondisplay.display(HTML(data='''<video alt=\"test\" autoplay \n",
    "                loop controls style=\"height: 400px;\">\n",
    "                <source src=\"data:video/mp4;base64,{0}\" type=\"video/mp4\" />\n",
    "             </video>'''.format(encoded.decode('ascii'))))\n",
    "  else: \n",
    "    print(\"Could not find video\")"
   ]
  },
  {
   "cell_type": "code",
   "execution_count": 2,
   "id": "a0fa94e0",
   "metadata": {},
   "outputs": [],
   "source": [
    "#Making the environment\n",
    "env = gym.make(\"CartPole-v1\")"
   ]
  },
  {
   "cell_type": "markdown",
   "id": "6e06b072",
   "metadata": {},
   "source": [
    "## Initialize variables"
   ]
  },
  {
   "cell_type": "code",
   "execution_count": 23,
   "id": "ea4876c0",
   "metadata": {
    "scrolled": true
   },
   "outputs": [
    {
     "name": "stdout",
     "output_type": "stream",
     "text": [
      "[ 0.01233798 -0.20791015  0.01873322  0.29331413]\n",
      "0.02\n"
     ]
    }
   ],
   "source": [
    "#Defining Hypermeters\n",
    "#LEARNING_RATE = 0.1\n",
    "LEARNING_RATE = 0.1\n",
    "\n",
    "DISCOUNT = 0.90 #instead of 0.95\n",
    "EPISODES = 60000\n",
    "total = 0\n",
    "total_reward = 0\n",
    "\n",
    "#0.25, 0.25, 0.01, 0.1\n",
    "# Define observation and window size\n",
    "Observation = [40, 40, 50, 50]\n",
    "np_array_win_size = np.array([0.25, 0.25, 0.05, 0.5])\n",
    "\n",
    "epsilon = 0.9\n",
    "epsilon_decay = (epsilon -0.1)/20000\n",
    "epsilon_min = 0.1\n",
    "epsilon_max = 0.95\n",
    "\n",
    "prev_mean = 0\n",
    "obs = env.reset()\n",
    "\n",
    "rewardArr = []\n",
    "\n",
    "new_env = env.step(0)[0]\n",
    "print(new_env)\n",
    "print(round(new_env[2], 2))"
   ]
  },
  {
   "cell_type": "markdown",
   "id": "f5636e52",
   "metadata": {},
   "source": [
    "## Create Q table"
   ]
  },
  {
   "cell_type": "code",
   "execution_count": 24,
   "id": "2bd47369",
   "metadata": {},
   "outputs": [
    {
     "data": {
      "text/plain": [
       "(40, 40, 50, 50, 2)"
      ]
     },
     "execution_count": 24,
     "metadata": {},
     "output_type": "execute_result"
    }
   ],
   "source": [
    "#Creating the q table\n",
    "q_table = np.zeros((Observation + [env.action_space.n]))\n",
    "q_table.shape"
   ]
  },
  {
   "cell_type": "markdown",
   "id": "4b370e01",
   "metadata": {},
   "source": [
    "## Getting discrete state"
   ]
  },
  {
   "cell_type": "code",
   "execution_count": 25,
   "id": "a5a72593",
   "metadata": {},
   "outputs": [
    {
     "name": "stdout",
     "output_type": "stream",
     "text": [
      "(31, 2, 9, 11)\n"
     ]
    }
   ],
   "source": [
    "#defining the discrete state\n",
    "def get_discrete_state(state):\n",
    "    \n",
    "    #Given a state, round to the nearest 0.25\n",
    "    #divide by the window size to find which bucket it belongs to\n",
    "    #discrete_state =np.array([np.round(state[0]*4)/4, np.round(state[1] *4) /4, np.round(state[2], 1) ,np.round(state[3], 1)])\n",
    "    #discrete_state =np.array([np.round(state[0]*2)/2, np.round(state[1] *2) /2, np.round(state[2]* 2)/2 ,np.round(state[3]* 2)/2])\n",
    "    discrete_state = state/np_array_win_size+ np.array([15,10,1,10])\n",
    "    #discrete_state = (discrete_state/np_array_win_size)\n",
    "    #print(discrete_state)\n",
    "    return tuple(discrete_state.astype(int))\n",
    "\n",
    "\n",
    "print(get_discrete_state([4, -2, 0.418, 0.63751878]))"
   ]
  },
  {
   "cell_type": "markdown",
   "id": "61f1e4e8",
   "metadata": {},
   "source": [
    "## Running"
   ]
  },
  {
   "cell_type": "code",
   "execution_count": 26,
   "id": "0d932b6b",
   "metadata": {},
   "outputs": [
    {
     "name": "stdout",
     "output_type": "stream",
     "text": [
      "Episode: 0\n",
      "Epsilon: 0.89996\n",
      "Mean Reward: 0.015\n",
      "Epsilon: 0.85995999999996\n",
      "Mean Reward: 26.27\n",
      "Episode: 2000\n",
      "Epsilon: 0.8431599999999432\n",
      "Mean Reward: 27.821\n",
      "Epsilon: 0.8255199999999255\n",
      "Mean Reward: 30.726\n",
      "Episode: 4000\n",
      "Epsilon: 0.8085599999999086\n",
      "Mean Reward: 32.609\n",
      "Epsilon: 0.7915599999998916\n",
      "Mean Reward: 34.11\n",
      "Episode: 6000\n",
      "Epsilon: 0.7744399999998745\n",
      "Mean Reward: 35.937\n",
      "Epsilon: 0.7573599999998574\n",
      "Mean Reward: 37.662\n",
      "Episode: 8000\n",
      "Epsilon: 0.7377999999998378\n",
      "Mean Reward: 42.026\n",
      "Epsilon: 0.7202799999998203\n",
      "Mean Reward: 43.704\n",
      "Episode: 10000\n",
      "Epsilon: 0.7022399999998022\n",
      "Mean Reward: 46.115\n",
      "Epsilon: 0.6841199999997841\n",
      "Mean Reward: 49.074\n",
      "Episode: 12000\n",
      "Epsilon: 0.6666399999997666\n",
      "Mean Reward: 50.397\n",
      "Epsilon: 0.6462399999997462\n",
      "Mean Reward: 56.911\n",
      "Episode: 14000\n",
      "Epsilon: 0.6275199999997275\n",
      "Mean Reward: 58.431\n",
      "Epsilon: 0.6075999999997076\n",
      "Mean Reward: 63.488\n",
      "Episode: 16000\n",
      "Epsilon: 0.585959999999686\n",
      "Mean Reward: 71.926\n",
      "Epsilon: 0.5669199999996669\n",
      "Mean Reward: 72.691\n",
      "Episode: 18000\n",
      "Epsilon: 0.5455999999996456\n",
      "Mean Reward: 81.336\n",
      "Epsilon: 0.5237599999996237\n",
      "Mean Reward: 89.931\n",
      "Episode: 20000\n",
      "Epsilon: 0.5034799999996035\n",
      "Mean Reward: 92.039\n",
      "Epsilon: 0.4802399999996077\n",
      "Mean Reward: 104.096\n",
      "Episode: 22000\n",
      "Epsilon: 0.45691999999961674\n",
      "Mean Reward: 113.2\n",
      "Epsilon: 0.4348399999996253\n",
      "Mean Reward: 118.635\n",
      "Episode: 24000\n",
      "Epsilon: 0.4092799999996352\n",
      "Mean Reward: 133.849\n",
      "Epsilon: 0.38419999999964494\n",
      "Mean Reward: 147.537\n",
      "Episode: 26000\n",
      "Epsilon: 0.3613999999996538\n",
      "Mean Reward: 154.754\n",
      "Epsilon: 0.33871999999966257\n",
      "Mean Reward: 164.402\n",
      "Episode: 28000\n",
      "Epsilon: 0.3165199999996712\n",
      "Mean Reward: 176.145\n",
      "Epsilon: 0.29383999999967997\n",
      "Mean Reward: 190.322\n",
      "Episode: 30000\n",
      "Epsilon: 0.2736799999996878\n",
      "Mean Reward: 198.111\n",
      "Epsilon: 0.25463999999969517\n",
      "Mean Reward: 198.709\n",
      "Episode: 32000\n",
      "Epsilon: 0.23347999999969188\n",
      "Mean Reward: 208.538\n",
      "Epsilon: 0.21543999999968635\n",
      "Mean Reward: 209.4\n",
      "Episode: 34000\n",
      "Epsilon: 0.19639999999968052\n",
      "Mean Reward: 215.141\n",
      "Epsilon: 0.17731999999967468\n",
      "Mean Reward: 222.416\n",
      "Episode: 36000\n",
      "Epsilon: 0.1571199999996685\n",
      "Mean Reward: 234.611\n",
      "Epsilon: 0.13931999999966305\n",
      "Mean Reward: 235.064\n",
      "Episode: 38000\n",
      "Epsilon: 0.11867999999965893\n",
      "Mean Reward: 248.912\n",
      "Epsilon: 0.09939999999965972\n",
      "Mean Reward: 253.366\n",
      "Episode: 40000\n",
      "Epsilon: 0.07999999999966051\n",
      "Mean Reward: 272.598\n",
      "Epsilon: 0.07999999999966051\n",
      "Mean Reward: 276.469\n",
      "Episode: 42000\n",
      "Epsilon: 0.07999999999966051\n",
      "Mean Reward: 266.082\n",
      "Epsilon: 0.07999999999966051\n",
      "Mean Reward: 270.059\n",
      "Episode: 44000\n",
      "Epsilon: 0.07999999999966051\n",
      "Mean Reward: 283.353\n",
      "Epsilon: 0.07999999999966051\n",
      "Mean Reward: 300.314\n",
      "Episode: 46000\n",
      "Epsilon: 0.08003999999966051\n",
      "Mean Reward: 291.822\n",
      "Epsilon: 0.07999999999966051\n",
      "Mean Reward: 292.524\n",
      "Episode: 48000\n",
      "Epsilon: 0.08003999999966051\n",
      "Mean Reward: 279.126\n",
      "Epsilon: 0.07999999999966051\n",
      "Mean Reward: 292.197\n",
      "Episode: 50000\n",
      "Epsilon: 0.07999999999966051\n",
      "Mean Reward: 285.123\n",
      "Epsilon: 0.07999999999966051\n",
      "Mean Reward: 309.035\n",
      "Episode: 52000\n",
      "Epsilon: 0.08003999999966051\n",
      "Mean Reward: 273.531\n",
      "Epsilon: 0.08003999999966051\n",
      "Mean Reward: 298.543\n",
      "Episode: 54000\n",
      "Epsilon: 0.08003999999966051\n",
      "Mean Reward: 274.301\n",
      "Epsilon: 0.08003999999966051\n",
      "Mean Reward: 268.05\n",
      "Episode: 56000\n",
      "Epsilon: 0.07999999999966051\n",
      "Mean Reward: 293.326\n",
      "Epsilon: 0.08003999999966051\n",
      "Mean Reward: 305.42\n",
      "Episode: 58000\n",
      "Epsilon: 0.07999999999966051\n",
      "Mean Reward: 302.859\n",
      "Epsilon: 0.08003999999966051\n",
      "Mean Reward: 316.848\n"
     ]
    }
   ],
   "source": [
    "#Training the agent\n",
    "for episode in range(EPISODES):\n",
    "\n",
    "    discrete_state = get_discrete_state(env.reset()[0])\n",
    "    done = False\n",
    "    episode_reward = 0\n",
    "    episode_length = 0\n",
    "    \n",
    "    # update every 2000 episodes\n",
    "    if episode % 2000 == 0:\n",
    "        print(\"Episode: \" + str(episode))\n",
    "\n",
    "    while not done:\n",
    "        \n",
    "        # always get max for now\n",
    "        if np.random.random() > epsilon:\n",
    "            action = np.argmax(q_table[discrete_state])\n",
    "        else:\n",
    "            action = np.random.randint(0, env.action_space.n)\n",
    "        \n",
    "        new_env = env.step(action)\n",
    "        new_state = new_env[0]\n",
    "        reward = new_env[1]\n",
    "        done = new_env[2]\n",
    "        episode_reward += reward\n",
    "        episode_length += 1\n",
    "        \n",
    "        new_discrete_state = get_discrete_state(new_state)\n",
    "        max_future_q = np.max(q_table[new_discrete_state])\n",
    "        current_q = q_table[discrete_state + (action,)]\n",
    "        if done and episode_reward < 200:\n",
    "            reward = - 375\n",
    "        \n",
    "\n",
    "        new_q = (1 - LEARNING_RATE) * current_q + LEARNING_RATE * (reward + DISCOUNT * max_future_q)\n",
    "        q_table[discrete_state + (action,)] = new_q\n",
    "\n",
    "        discrete_state = new_discrete_state\n",
    "        \n",
    "        # check termination conditions\n",
    "#         if abs(new_state[0]) > 2.4 or abs(new_state[2]) > np.radians(12) or episode_length > 500:\n",
    "#             done = True\n",
    "            \n",
    "    total_reward += episode_reward\n",
    "    rewardArr.append(episode_reward)\n",
    "    if epsilon > 0.08:\n",
    "        epsilon -= epsilon_decay\n",
    "    if episode_reward < prev_mean:\n",
    "        epsilon +=epsilon_decay\n",
    "    if episode % 1000 == 0:\n",
    "        print(\"Epsilon: \" + str(epsilon))\n",
    "        mean_reward = total_reward / 1000\n",
    "        print(\"Mean Reward: \" + str(mean_reward))\n",
    "    \n",
    "        prev_mean = mean_reward\n",
    "        total_reward = 0\n",
    "\n",
    "env.close()\n"
   ]
  },
  {
   "cell_type": "code",
   "execution_count": 28,
   "id": "55cb0036",
   "metadata": {},
   "outputs": [
    {
     "data": {
      "image/png": "[encoded data removed]",
      "text/plain": [
       "<Figure size 432x288 with 1 Axes>"
      ]
     },
     "metadata": {
      "needs_background": "light"
     },
     "output_type": "display_data"
    }
   ],
   "source": [
    "plt.plot(rewardArr)\n",
    "plt.title('Cumulative reward for each episode')\n",
    "plt.ylabel('Cumulative reward')\n",
    "plt.xlabel('episode')\n",
    "plt.show()"
   ]
  },
  {
   "cell_type": "code",
   "execution_count": 41,
   "id": "216b5cb3",
   "metadata": {},
   "outputs": [
    {
     "name": "stdout",
     "output_type": "stream",
     "text": [
      "Could not find video\n",
      "342.0\n"
     ]
    }
   ],
   "source": [
    "episode_reward = 0\n",
    "\n",
    "env = RecordVideo(gym.make(\"CartPole-v1\"), \"./video\")\n",
    "observation = env.reset()\n",
    "discrete_state = get_discrete_state(observation[0])\n",
    "\n",
    "done = False\n",
    "while not done:\n",
    "    env.render()\n",
    "    action = np.argmax(q_table[discrete_state])\n",
    "    new_env = env.step(action)\n",
    "    new_state = new_env[0]\n",
    "    reward = new_env[1]\n",
    "    done = new_env[2]\n",
    "    episode_reward += reward\n",
    "    \n",
    "    new_discrete_state = get_discrete_state(new_state)\n",
    "    discrete_state = new_discrete_state\n",
    "\n",
    "env.close()\n",
    "show_video()\n",
    "print(episode_reward)"
   ]
  },
  {
   "cell_type": "code",
   "execution_count": null,
   "id": "7bb4ffae",
   "metadata": {},
   "outputs": [],
   "source": []
  },
  {
   "cell_type": "code",
   "execution_count": null,
   "id": "1bc04140",
   "metadata": {},
   "outputs": [],
   "source": []
  }
 ],
 "metadata": {
  "kernelspec": {
   "display_name": "Python 3 (ipykernel)",
   "language": "python",
   "name": "python3"
  },
  "language_info": {
   "codemirror_mode": {
    "name": "ipython",
    "version": 3
   },
   "file_extension": ".py",
   "mimetype": "text/x-python",
   "name": "python",
   "nbconvert_exporter": "python",
   "pygments_lexer": "ipython3",
   "version": "3.9.7"
  },
  "vscode": {
   "interpreter": {
    "hash": "b0fa6594d8f4cbf19f97940f81e996739fb7646882a419484c72d19e05852a7e"
   }
  }
 },
 "nbformat": 4,
 "nbformat_minor": 5
}
