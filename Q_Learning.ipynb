{
 "cells": [
  {
   "cell_type": "code",
   "execution_count": 1,
   "id": "0dbe417f",
   "metadata": {},
   "outputs": [],
   "source": [
    "\n",
    "import gym\n",
    "from gym import logger as gymlogger\n",
    "from gym.wrappers import RecordVideo\n",
    "gymlogger.set_level(40) #error only\n",
    "#import tensorflow as tf\n",
    "import numpy as np\n",
    "import random\n",
    "import matplotlib\n",
    "import matplotlib.pyplot as plt\n",
    "%matplotlib inline\n",
    "import math\n",
    "import glob\n",
    "import io\n",
    "import base64\n",
    "from IPython.display import HTML\n",
    "from IPython import display as ipythondisplay\n",
    "\n",
    "def show_video():\n",
    "  mp4list = glob.glob('video/*.mp4')\n",
    "  if len(mp4list) > 0:\n",
    "    mp4 = mp4list[0]\n",
    "    video = io.open(mp4, 'r+b').read()\n",
    "    encoded = base64.b64encode(video)\n",
    "    ipythondisplay.display(HTML(data='''<video alt=\"test\" autoplay \n",
    "                loop controls style=\"height: 400px;\">\n",
    "                <source src=\"data:video/mp4;base64,{0}\" type=\"video/mp4\" />\n",
    "             </video>'''.format(encoded.decode('ascii'))))\n",
    "  else: \n",
    "    print(\"Could not find video\")"
   ]
  },
  {
   "cell_type": "code",
   "execution_count": null,
   "id": "a0fa94e0",
   "metadata": {},
   "outputs": [],
   "source": [
    "env = gym.make(\"CartPole-v1\")"
   ]
  },
  {
   "cell_type": "markdown",
   "id": "6e06b072",
   "metadata": {},
   "source": [
    "## Initialize variables"
   ]
  },
  {
   "cell_type": "code",
   "execution_count": 4,
   "id": "ea4876c0",
   "metadata": {},
   "outputs": [
    {
     "name": "stdout",
     "output_type": "stream",
     "text": [
      "0.03\n"
     ]
    }
   ],
   "source": [
    "LEARNING_RATE = 0.1\n",
    "\n",
    "DISCOUNT = 0.90\n",
    "EPISODES = 60000\n",
    "total = 0\n",
    "total_reward = 0\n",
    "\n",
    "\n",
    "Observation = [40, 40, 85, 50]\n",
    "np_array_win_size = np.array([0.05, 0.25, 0.01, 0.1])\n",
    "\n",
    "#epsilon = 1\n",
    "\n",
    "obs = env.reset()\n",
    "\n",
    "\n",
    "new_env = env.step(0)[0]\n",
    "print(round(new_env[0], 2))"
   ]
  },
  {
   "cell_type": "markdown",
   "id": "f5636e52",
   "metadata": {},
   "source": [
    "## Create Q table"
   ]
  },
  {
   "cell_type": "code",
   "execution_count": 5,
   "id": "2bd47369",
   "metadata": {},
   "outputs": [
    {
     "data": {
      "text/plain": [
       "(40, 40, 85, 50, 2)"
      ]
     },
     "execution_count": 5,
     "metadata": {},
     "output_type": "execute_result"
    }
   ],
   "source": [
    "q_table = np.random.uniform(low=0, high=1, size=(Observation + [env.action_space.n]))\n",
    "q_table.shape"
   ]
  },
  {
   "cell_type": "markdown",
   "id": "4b370e01",
   "metadata": {},
   "source": [
    "## Getting discrete state"
   ]
  },
  {
   "cell_type": "code",
   "execution_count": 6,
   "id": "a5a72593",
   "metadata": {},
   "outputs": [
    {
     "name": "stdout",
     "output_type": "stream",
     "text": [
      "(20, -2, 80, 4)\n"
     ]
    }
   ],
   "source": [
    "def get_discrete_state(state):\n",
    "    \n",
    "    #Given a state, round to the nearest 0.25\n",
    "    #divide by the window size to find which bucket it belongs to\n",
    "    discrete_state =np.array([np.round(state[0] *20) /20, np.round(state[1] *4) /4, np.round(state[2], 2) ,np.round(state[3], 2)])\n",
    "    new = discrete_state/np_array_win_size\n",
    "    \n",
    "    return tuple(new.astype(int))\n",
    "\n",
    "\n",
    "print(get_discrete_state([1,-0.4,0.8,0.4]))"
   ]
  },
  {
   "cell_type": "markdown",
   "id": "61f1e4e8",
   "metadata": {},
   "source": [
    "## Running"
   ]
  },
  {
   "cell_type": "code",
   "execution_count": null,
   "id": "0d932b6b",
   "metadata": {},
   "outputs": [
    {
     "name": "stdout",
     "output_type": "stream",
     "text": [
      "Episode: 0\n",
      "Mean Reward: 0.003\n",
      "Mean Reward: 4.667\n",
      "Episode: 2000\n",
      "Mean Reward: 4.869\n",
      "Mean Reward: 4.843\n",
      "Episode: 4000\n",
      "Mean Reward: 4.738\n",
      "Mean Reward: 4.84\n",
      "Episode: 6000\n",
      "Mean Reward: 4.671\n",
      "Mean Reward: 4.741\n",
      "Episode: 8000\n",
      "Mean Reward: 4.647\n",
      "Mean Reward: 4.726\n",
      "Episode: 10000\n",
      "Mean Reward: 4.708\n",
      "Mean Reward: 4.792\n",
      "Episode: 12000\n",
      "Mean Reward: 4.825\n",
      "Mean Reward: 4.867\n",
      "Episode: 14000\n",
      "Mean Reward: 4.838\n",
      "Mean Reward: 4.847\n",
      "Episode: 16000\n",
      "Mean Reward: 4.804\n",
      "Mean Reward: 4.647\n",
      "Episode: 18000\n",
      "Mean Reward: 4.867\n",
      "Mean Reward: 4.83\n",
      "Episode: 20000\n",
      "Mean Reward: 4.707\n",
      "Mean Reward: 4.859\n",
      "Episode: 22000\n",
      "Mean Reward: 4.789\n",
      "Mean Reward: 4.707\n",
      "Episode: 24000\n",
      "Mean Reward: 4.804\n",
      "Mean Reward: 4.822\n",
      "Episode: 26000\n",
      "Mean Reward: 4.741\n",
      "Mean Reward: 4.772\n",
      "Episode: 28000\n",
      "Mean Reward: 4.784\n",
      "Mean Reward: 4.747\n",
      "Episode: 30000\n",
      "Mean Reward: 4.735\n",
      "Mean Reward: 4.773\n",
      "Episode: 32000\n",
      "Mean Reward: 4.695\n",
      "Mean Reward: 4.828\n",
      "Episode: 34000\n",
      "Mean Reward: 4.682\n",
      "Mean Reward: 4.879\n"
     ]
    }
   ],
   "source": [
    "for episode in range(EPISODES): \n",
    "   \n",
    "    discrete_state = get_discrete_state(env.reset()[0])  \n",
    "    #print(discrete_state)\n",
    "    done = False\n",
    "    episode_reward = 0 \n",
    "    \n",
    "    #update every 2000 episodes\n",
    "    if episode % 2000 == 0: \n",
    "        print(\"Episode: \" + str(episode))\n",
    "\n",
    "    while not done: \n",
    "        #Always get max for now\n",
    "        #if np.random.random() > epsilon:\n",
    "        action = np.argmax(q_table[discrete_state]) \n",
    "        #else:\n",
    "        #action = np.random.randint(0, env.action_space.n) \n",
    "\n",
    "        new_state = env.step(action)[0]\n",
    "        reward = env.step(action)[1]\n",
    "        done = env.step(action)[2]\n",
    "        episode_reward += reward \n",
    "\n",
    "        new_discrete_state = get_discrete_state(new_state)\n",
    "\n",
    "        if not done: \n",
    "            \n",
    "            max_future_q = np.max(q_table[new_discrete_state])\n",
    "\n",
    "            current_q = q_table[discrete_state + (action,)]\n",
    "\n",
    "            new_q = (1-LEARNING_RATE)*current_q + LEARNING_RATE * (reward + DISCOUNT * max_future_q)\n",
    "            q_table[discrete_state + (action,)] = new_q\n",
    "\n",
    "        discrete_state = new_discrete_state\n",
    "  \n",
    "\n",
    "    total_reward += episode_reward\n",
    "    \n",
    "\n",
    "    if episode % 1000 == 0: \n",
    "\n",
    "        mean_reward = total_reward / 1000\n",
    "        print(\"Mean Reward: \" + str(mean_reward))\n",
    "        total_reward = 0\n",
    "\n",
    "env.close()"
   ]
  },
  {
   "cell_type": "code",
   "execution_count": null,
   "id": "55cb0036",
   "metadata": {},
   "outputs": [],
   "source": []
  }
 ],
 "metadata": {
  "kernelspec": {
   "display_name": "Python 3 (ipykernel)",
   "language": "python",
   "name": "python3"
  },
  "language_info": {
   "codemirror_mode": {
    "name": "ipython",
    "version": 3
   },
   "file_extension": ".py",
   "mimetype": "text/x-python",
   "name": "python",
   "nbconvert_exporter": "python",
   "pygments_lexer": "ipython3",
   "version": "3.9.7"
  }
 },
 "nbformat": 4,
 "nbformat_minor": 5
}
