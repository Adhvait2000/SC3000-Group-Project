{
 "cells": [
  {
   "cell_type": "code",
   "execution_count": 114,
   "metadata": {},
   "outputs": [],
   "source": [
    "import random\n",
    "import time\n",
    "\n",
    "# Imports\n",
    "\n",
    "import pandas as pd\n",
    "import numpy as np\n",
    "import random\n",
    "import seaborn as sns\n",
    "import matplotlib.pyplot as plt\n",
    "\n",
    "sns.set()"
   ]
  },
  {
   "cell_type": "code",
   "execution_count": 3,
   "metadata": {},
   "outputs": [],
   "source": [
    "# Importing gym and its other stuff\n",
    "import gym\n",
    "from gym import logger as gymlogger\n",
    "gymlogger.set_level(40) # err only\n",
    "\n",
    "env = gym.make(\"CartPole-v1\")"
   ]
  },
  {
   "cell_type": "code",
   "execution_count": 95,
   "metadata": {},
   "outputs": [],
   "source": [
    "### LOGGING OBJECT\n",
    "\n",
    "class Logger:\n",
    "    def __init__(self, filename='./data.csv'):\n",
    "        self.filename = filename\n",
    "\n",
    "    def __parseStats(self, stats) -> str:\n",
    "        print(stats)\n",
    "        obsv = stats[0]\n",
    "        reward = stats[1]\n",
    "        done = stats[2]\n",
    "        info = stats[3]\n",
    "\n",
    "        obsvCSV = ','.join([x.astype(str) for x in obsv])\n",
    "        return f\"{obsvCSV},{reward},{done},{info}\"\n",
    "\n",
    "    def log(self, stats, action, totalReward) -> None:\n",
    "        # open file\n",
    "        self.__parseStats(stats=stats)\n",
    "        with open(self.filename, 'a') as file:\n",
    "            file.write(f\"{self.__parseStats(stats=stats)},{totalReward},{action}\\n\")\n",
    "            pass\n"
   ]
  },
  {
   "cell_type": "code",
   "execution_count": 124,
   "metadata": {},
   "outputs": [],
   "source": [
    "### Agent OBJECT\n",
    "\n",
    "class Agent:\n",
    "    def __init__(self, environment, logger:Logger) -> None:\n",
    "        self.env = environment\n",
    "        self.logger = logger\n",
    "        self.isRunning = True\n",
    "        self.curReward = 0\n",
    "\n",
    "    def __reset(self):\n",
    "        startState = self.env.reset()\n",
    "        self.isRunning = True\n",
    "        self.curReward = 0\n",
    "        return startState\n",
    "\n",
    "    def policy(self) -> int:\n",
    "        return random.randint(0,1)\n",
    "\n",
    "    def run(self) -> None:\n",
    "        self.__reset()\n",
    "        while self.isRunning:\n",
    "            action = self.policy() # determining action\n",
    "            stats = self.env.step(action) # execute action\n",
    "\n",
    "            # update state\n",
    "            self.isRunning = stats[2]==False\n",
    "            self.curReward += stats[1] if self.isRunning else 0\n",
    "\n",
    "            # log information etc\n",
    "            self.logger.log(stats=stats, action=action, totalReward=self.curReward)"
   ]
  },
  {
   "cell_type": "code",
   "execution_count": 125,
   "metadata": {},
   "outputs": [
    {
     "name": "stdout",
     "output_type": "stream",
     "text": [
      "(array([ 0.04778444, -0.22281489, -0.00178546,  0.26060775], dtype=float32), 1.0, False, False, {})\n",
      "(array([ 0.04778444, -0.22281489, -0.00178546,  0.26060775], dtype=float32), 1.0, False, False, {})\n",
      "(array([ 0.04332814, -0.41791132,  0.00342669,  0.552727  ], dtype=float32), 1.0, False, False, {})\n",
      "(array([ 0.04332814, -0.41791132,  0.00342669,  0.552727  ], dtype=float32), 1.0, False, False, {})\n",
      "(array([ 0.03496991, -0.6130812 ,  0.01448123,  0.8464876 ], dtype=float32), 1.0, False, False, {})\n",
      "(array([ 0.03496991, -0.6130812 ,  0.01448123,  0.8464876 ], dtype=float32), 1.0, False, False, {})\n",
      "(array([ 0.02270829, -0.8083977 ,  0.03141098,  1.1436889 ], dtype=float32), 1.0, False, False, {})\n",
      "(array([ 0.02270829, -0.8083977 ,  0.03141098,  1.1436889 ], dtype=float32), 1.0, False, False, {})\n",
      "(array([ 0.00654034, -1.0039157 ,  0.05428476,  1.4460545 ], dtype=float32), 1.0, False, False, {})\n",
      "(array([ 0.00654034, -1.0039157 ,  0.05428476,  1.4460545 ], dtype=float32), 1.0, False, False, {})\n",
      "(array([-0.01353798, -1.1996617 ,  0.08320585,  1.755193  ], dtype=float32), 1.0, False, False, {})\n",
      "(array([-0.01353798, -1.1996617 ,  0.08320585,  1.755193  ], dtype=float32), 1.0, False, False, {})\n",
      "(array([-0.03753121, -1.0055759 ,  0.11830971,  1.4895056 ], dtype=float32), 1.0, False, False, {})\n",
      "(array([-0.03753121, -1.0055759 ,  0.11830971,  1.4895056 ], dtype=float32), 1.0, False, False, {})\n",
      "(array([-0.05764273, -0.8120766 ,  0.14809982,  1.2359878 ], dtype=float32), 1.0, False, False, {})\n",
      "(array([-0.05764273, -0.8120766 ,  0.14809982,  1.2359878 ], dtype=float32), 1.0, False, False, {})\n",
      "(array([-0.07388426, -1.0087583 ,  0.17281958,  1.5711632 ], dtype=float32), 1.0, False, False, {})\n",
      "(array([-0.07388426, -1.0087583 ,  0.17281958,  1.5711632 ], dtype=float32), 1.0, False, False, {})\n",
      "(array([-0.09405943, -1.20547   ,  0.20424284,  1.9123917 ], dtype=float32), 1.0, False, False, {})\n",
      "(array([-0.09405943, -1.20547   ,  0.20424284,  1.9123917 ], dtype=float32), 1.0, False, False, {})\n",
      "(array([-0.11816883, -1.4021246 ,  0.24249068,  2.260873  ], dtype=float32), 1.0, True, False, {})\n",
      "(array([-0.11816883, -1.4021246 ,  0.24249068,  2.260873  ], dtype=float32), 1.0, True, False, {})\n",
      "(array([-0.03971494, -0.15809232, -0.03295691,  0.27247807], dtype=float32), 1.0, False, False, {})\n",
      "(array([-0.03971494, -0.15809232, -0.03295691,  0.27247807], dtype=float32), 1.0, False, False, {})\n",
      "(array([-0.04287679, -0.3527289 , -0.02750735,  0.55458677], dtype=float32), 1.0, False, False, {})\n",
      "(array([-0.04287679, -0.3527289 , -0.02750735,  0.55458677], dtype=float32), 1.0, False, False, {})\n",
      "(array([-0.04993137, -0.547454  , -0.01641561,  0.83847785], dtype=float32), 1.0, False, False, {})\n",
      "(array([-0.04993137, -0.547454  , -0.01641561,  0.83847785], dtype=float32), 1.0, False, False, {})\n",
      "(array([-6.0880449e-02, -7.4234802e-01,  3.5394641e-04,  1.1259534e+00],\n",
      "      dtype=float32), 1.0, False, False, {})\n",
      "(array([-6.0880449e-02, -7.4234802e-01,  3.5394641e-04,  1.1259534e+00],\n",
      "      dtype=float32), 1.0, False, False, {})\n",
      "(array([-0.07572741, -0.9374746 ,  0.02287302,  1.4187474 ], dtype=float32), 1.0, False, False, {})\n",
      "(array([-0.07572741, -0.9374746 ,  0.02287302,  1.4187474 ], dtype=float32), 1.0, False, False, {})\n",
      "(array([-0.0944769 , -0.7426431 ,  0.05124796,  1.1333007 ], dtype=float32), 1.0, False, False, {})\n",
      "(array([-0.0944769 , -0.7426431 ,  0.05124796,  1.1333007 ], dtype=float32), 1.0, False, False, {})\n",
      "(array([-0.10932976, -0.54822797,  0.07391398,  0.85712117], dtype=float32), 1.0, False, False, {})\n",
      "(array([-0.10932976, -0.54822797,  0.07391398,  0.85712117], dtype=float32), 1.0, False, False, {})\n",
      "(array([-0.12029433, -0.744275  ,  0.0910564 ,  1.1720996 ], dtype=float32), 1.0, False, False, {})\n",
      "(array([-0.12029433, -0.744275  ,  0.0910564 ,  1.1720996 ], dtype=float32), 1.0, False, False, {})\n",
      "(array([-0.13517982, -0.940455  ,  0.11449839,  1.4918842 ], dtype=float32), 1.0, False, False, {})\n",
      "(array([-0.13517982, -0.940455  ,  0.11449839,  1.4918842 ], dtype=float32), 1.0, False, False, {})\n",
      "(array([-0.15398893, -0.7468976 ,  0.14433607,  1.2370383 ], dtype=float32), 1.0, False, False, {})\n",
      "(array([-0.15398893, -0.7468976 ,  0.14433607,  1.2370383 ], dtype=float32), 1.0, False, False, {})\n",
      "(array([-0.16892688, -0.55389446,  0.16907685,  0.99283147], dtype=float32), 1.0, False, False, {})\n",
      "(array([-0.16892688, -0.55389446,  0.16907685,  0.99283147], dtype=float32), 1.0, False, False, {})\n",
      "(array([-0.18000476, -0.3613884 ,  0.18893348,  0.757662  ], dtype=float32), 1.0, False, False, {})\n",
      "(array([-0.18000476, -0.3613884 ,  0.18893348,  0.757662  ], dtype=float32), 1.0, False, False, {})\n",
      "(array([-0.18723252, -0.16930257,  0.2040867 ,  0.52987707], dtype=float32), 1.0, False, False, {})\n",
      "(array([-0.18723252, -0.16930257,  0.2040867 ,  0.52987707], dtype=float32), 1.0, False, False, {})\n",
      "(array([-0.19061857, -0.36662224,  0.21468425,  0.8792998 ], dtype=float32), 1.0, True, False, {})\n",
      "(array([-0.19061857, -0.36662224,  0.21468425,  0.8792998 ], dtype=float32), 1.0, True, False, {})\n"
     ]
    }
   ],
   "source": [
    "for _ in range(2):\n",
    "    agt = Agent(gym.make(\"CartPole-v1\"), Logger())\n",
    "    agt.run()"
   ]
  },
  {
   "cell_type": "markdown",
   "metadata": {},
   "source": [
    "# Analysing data\n",
    "\n",
    "Perhaps into catagories\n"
   ]
  },
  {
   "cell_type": "code",
   "execution_count": null,
   "metadata": {},
   "outputs": [],
   "source": []
  }
 ],
 "metadata": {
  "kernelspec": {
   "display_name": "Python 3 (ipykernel)",
   "language": "python",
   "name": "python3"
  },
  "language_info": {
   "codemirror_mode": {
    "name": "ipython",
    "version": 3
   },
   "file_extension": ".py",
   "mimetype": "text/x-python",
   "name": "python",
   "nbconvert_exporter": "python",
   "pygments_lexer": "ipython3",
   "version": "3.9.7"
  }
 },
 "nbformat": 4,
 "nbformat_minor": 1
}
