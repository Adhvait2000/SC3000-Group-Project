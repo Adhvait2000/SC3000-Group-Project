{
 "cells": [
  {
   "cell_type": "code",
   "execution_count": 114,
   "metadata": {},
   "outputs": [],
   "source": [
    "import random\n",
    "import time\n",
    "\n",
    "# Imports\n",
    "\n",
    "import pandas as pd\n",
    "import numpy as np\n",
    "import random\n",
    "import seaborn as sns\n",
    "import matplotlib.pyplot as plt\n",
    "\n",
    "sns.set()"
   ]
  },
  {
   "cell_type": "code",
   "execution_count": 3,
   "metadata": {},
   "outputs": [],
   "source": [
    "# Importing gym and its other stuff\n",
    "import gym\n",
    "from gym import logger as gymlogger\n",
    "gymlogger.set_level(40) # err only\n",
    "\n",
    "env = gym.make(\"CartPole-v1\")"
   ]
  },
  {
   "cell_type": "code",
   "execution_count": 95,
   "metadata": {},
   "outputs": [],
   "source": [
    "### LOGGING OBJECT\n",
    "\n",
    "class Logger:\n",
    "    def __init__(self, filename='./data.csv'):\n",
    "        self.filename = filename\n",
    "\n",
    "    def __parseStats(self, stats) -> str:\n",
    "        print(stats)\n",
    "        obsv = stats[0]\n",
    "        reward = stats[1]\n",
    "        done = stats[2]\n",
    "        info = stats[3]\n",
    "\n",
    "        obsvCSV = ','.join([x.astype(str) for x in obsv])\n",
    "        return f\"{obsvCSV},{reward},{done},{info}\"\n",
    "\n",
    "    def log(self, stats, action, totalReward) -> None:\n",
    "        # open file\n",
    "        self.__parseStats(stats=stats)\n",
    "        with open(self.filename, 'a') as file:\n",
    "            file.write(f\"{self.__parseStats(stats=stats)},{totalReward},{action}\\n\")\n",
    "            pass\n"
   ]
  },
  {
   "cell_type": "code",
   "execution_count": 124,
   "metadata": {},
   "outputs": [],
   "source": [
    "### Agent OBJECT\n",
    "\n",
    "class Agent:\n",
    "    def __init__(self, environment, logger:Logger) -> None:\n",
    "        self.env = environment\n",
    "        self.logger = logger\n",
    "        self.isRunning = True\n",
    "        self.curReward = 0\n",
    "\n",
    "    def __reset(self):\n",
    "        startState = self.env.reset()\n",
    "        self.isRunning = True\n",
    "        self.curReward = 0\n",
    "        return startState\n",
    "\n",
    "    def policy(self) -> int:\n",
    "        return random.randint(0,1)\n",
    "\n",
    "    def run(self) -> None:\n",
    "        self.__reset()\n",
    "        while self.isRunning:\n",
    "            action = self.policy() # determining action\n",
    "            stats = self.env.step(action) # execute action\n",
    "\n",
    "            # update state\n",
    "            self.isRunning = stats[2]==False\n",
    "            self.curReward += stats[1] if self.isRunning else 0\n",
    "\n",
    "            # log information etc\n",
    "            self.logger.log(stats=stats, action=action, totalReward=self.curReward)"
   ]
  },
  {
   "cell_type": "code",
   "execution_count": 126,
   "metadata": {},
   "outputs": [
    {
     "name": "stdout",
     "output_type": "stream",
     "text": [
      "(array([-0.01118731,  0.1855544 ,  0.03622197, -0.3023817 ], dtype=float32), 1.0, False, False, {})\n",
      "(array([-0.01118731,  0.1855544 ,  0.03622197, -0.3023817 ], dtype=float32), 1.0, False, False, {})\n",
      "(array([-0.00747623,  0.38014188,  0.03017434, -0.5834245 ], dtype=float32), 1.0, False, False, {})\n",
      "(array([-0.00747623,  0.38014188,  0.03017434, -0.5834245 ], dtype=float32), 1.0, False, False, {})\n",
      "(array([ 1.2661106e-04,  5.7482839e-01,  1.8505851e-02, -8.6645144e-01],\n",
      "      dtype=float32), 1.0, False, False, {})\n",
      "(array([ 1.2661106e-04,  5.7482839e-01,  1.8505851e-02, -8.6645144e-01],\n",
      "      dtype=float32), 1.0, False, False, {})\n",
      "(array([ 0.01162318,  0.37945956,  0.00117682, -0.56800795], dtype=float32), 1.0, False, False, {})\n",
      "(array([ 0.01162318,  0.37945956,  0.00117682, -0.56800795], dtype=float32), 1.0, False, False, {})\n",
      "(array([ 0.01921237,  0.574565  , -0.01018334, -0.8603199 ], dtype=float32), 1.0, False, False, {})\n",
      "(array([ 0.01921237,  0.574565  , -0.01018334, -0.8603199 ], dtype=float32), 1.0, False, False, {})\n",
      "(array([ 0.03070367,  0.76982415, -0.02738974, -1.1561873 ], dtype=float32), 1.0, False, False, {})\n",
      "(array([ 0.03070367,  0.76982415, -0.02738974, -1.1561873 ], dtype=float32), 1.0, False, False, {})\n",
      "(array([ 0.04610015,  0.5750698 , -0.05051348, -0.8722169 ], dtype=float32), 1.0, False, False, {})\n",
      "(array([ 0.04610015,  0.5750698 , -0.05051348, -0.8722169 ], dtype=float32), 1.0, False, False, {})\n",
      "(array([ 0.05760155,  0.38066983, -0.06795782, -0.59583354], dtype=float32), 1.0, False, False, {})\n",
      "(array([ 0.05760155,  0.38066983, -0.06795782, -0.59583354], dtype=float32), 1.0, False, False, {})\n",
      "(array([ 0.06521495,  0.18656145, -0.07987449, -0.3253073 ], dtype=float32), 1.0, False, False, {})\n",
      "(array([ 0.06521495,  0.18656145, -0.07987449, -0.3253073 ], dtype=float32), 1.0, False, False, {})\n",
      "(array([ 0.06894618,  0.38272443, -0.08638064, -0.6420718 ], dtype=float32), 1.0, False, False, {})\n",
      "(array([ 0.06894618,  0.38272443, -0.08638064, -0.6420718 ], dtype=float32), 1.0, False, False, {})\n",
      "(array([ 0.07660066,  0.57893753, -0.09922207, -0.9606584 ], dtype=float32), 1.0, False, False, {})\n",
      "(array([ 0.07660066,  0.57893753, -0.09922207, -0.9606584 ], dtype=float32), 1.0, False, False, {})\n",
      "(array([ 0.08817942,  0.775243  , -0.11843524, -1.2827917 ], dtype=float32), 1.0, False, False, {})\n",
      "(array([ 0.08817942,  0.775243  , -0.11843524, -1.2827917 ], dtype=float32), 1.0, False, False, {})\n",
      "(array([ 0.10368428,  0.9716573 , -0.14409107, -1.6100879 ], dtype=float32), 1.0, False, False, {})\n",
      "(array([ 0.10368428,  0.9716573 , -0.14409107, -1.6100879 ], dtype=float32), 1.0, False, False, {})\n",
      "(array([ 0.12311742,  0.7785016 , -0.17629284, -1.3655733 ], dtype=float32), 1.0, False, False, {})\n",
      "(array([ 0.12311742,  0.7785016 , -0.17629284, -1.3655733 ], dtype=float32), 1.0, False, False, {})\n",
      "(array([ 0.13868745,  0.5859701 , -0.2036043 , -1.1328143 ], dtype=float32), 1.0, False, False, {})\n",
      "(array([ 0.13868745,  0.5859701 , -0.2036043 , -1.1328143 ], dtype=float32), 1.0, False, False, {})\n",
      "(array([ 0.15040685,  0.78308916, -0.22626059, -1.4818323 ], dtype=float32), 1.0, True, False, {})\n",
      "(array([ 0.15040685,  0.78308916, -0.22626059, -1.4818323 ], dtype=float32), 1.0, True, False, {})\n",
      "(array([-0.00364576, -0.20054944,  0.04912787,  0.3076097 ], dtype=float32), 1.0, False, False, {})\n",
      "(array([-0.00364576, -0.20054944,  0.04912787,  0.3076097 ], dtype=float32), 1.0, False, False, {})\n",
      "(array([-0.00765675, -0.00616069,  0.05528006,  0.03081616], dtype=float32), 1.0, False, False, {})\n",
      "(array([-0.00765675, -0.00616069,  0.05528006,  0.03081616], dtype=float32), 1.0, False, False, {})\n",
      "(array([-0.00777996,  0.18812673,  0.05589638, -0.24392574], dtype=float32), 1.0, False, False, {})\n",
      "(array([-0.00777996,  0.18812673,  0.05589638, -0.24392574], dtype=float32), 1.0, False, False, {})\n",
      "(array([-0.00401743, -0.00774721,  0.05101787,  0.06585129], dtype=float32), 1.0, False, False, {})\n",
      "(array([-0.00401743, -0.00774721,  0.05101787,  0.06585129], dtype=float32), 1.0, False, False, {})\n",
      "(array([-0.00417237, -0.20356208,  0.0523349 ,  0.3741842 ], dtype=float32), 1.0, False, False, {})\n",
      "(array([-0.00417237, -0.20356208,  0.0523349 ,  0.3741842 ], dtype=float32), 1.0, False, False, {})\n",
      "(array([-0.00824361, -0.00922109,  0.05981858,  0.09845125], dtype=float32), 1.0, False, False, {})\n",
      "(array([-0.00824361, -0.00922109,  0.05981858,  0.09845125], dtype=float32), 1.0, False, False, {})\n",
      "(array([-0.00842803, -0.20514707,  0.06178761,  0.40939075], dtype=float32), 1.0, False, False, {})\n",
      "(array([-0.00842803, -0.20514707,  0.06178761,  0.40939075], dtype=float32), 1.0, False, False, {})\n",
      "(array([-0.01253097, -0.01095308,  0.06997542,  0.13680962], dtype=float32), 1.0, False, False, {})\n",
      "(array([-0.01253097, -0.01095308,  0.06997542,  0.13680962], dtype=float32), 1.0, False, False, {})\n",
      "(array([-0.01275004,  0.18310046,  0.07271161, -0.13300234], dtype=float32), 1.0, False, False, {})\n",
      "(array([-0.01275004,  0.18310046,  0.07271161, -0.13300234], dtype=float32), 1.0, False, False, {})\n",
      "(array([-0.00908803,  0.37710962,  0.07005157, -0.40188876], dtype=float32), 1.0, False, False, {})\n",
      "(array([-0.00908803,  0.37710962,  0.07005157, -0.40188876], dtype=float32), 1.0, False, False, {})\n",
      "(array([-0.00154583,  0.5711717 ,  0.06201379, -0.67168957], dtype=float32), 1.0, False, False, {})\n",
      "(array([-0.00154583,  0.5711717 ,  0.06201379, -0.67168957], dtype=float32), 1.0, False, False, {})\n",
      "(array([ 0.0098776 ,  0.76537925,  0.04858   , -0.9442206 ], dtype=float32), 1.0, False, False, {})\n",
      "(array([ 0.0098776 ,  0.76537925,  0.04858   , -0.9442206 ], dtype=float32), 1.0, False, False, {})\n",
      "(array([ 0.02518518,  0.5696377 ,  0.02969559, -0.63667774], dtype=float32), 1.0, False, False, {})\n",
      "(array([ 0.02518518,  0.5696377 ,  0.02969559, -0.63667774], dtype=float32), 1.0, False, False, {})\n",
      "(array([ 0.03657794,  0.7643332 ,  0.01696203, -0.91986305], dtype=float32), 1.0, False, False, {})\n",
      "(array([ 0.03657794,  0.7643332 ,  0.01696203, -0.91986305], dtype=float32), 1.0, False, False, {})\n",
      "(array([ 0.0518646 ,  0.5689861 , -0.00143523, -0.621898  ], dtype=float32), 1.0, False, False, {})\n",
      "(array([ 0.0518646 ,  0.5689861 , -0.00143523, -0.621898  ], dtype=float32), 1.0, False, False, {})\n",
      "(array([ 0.06324433,  0.37388426, -0.01387319, -0.32966745], dtype=float32), 1.0, False, False, {})\n",
      "(array([ 0.06324433,  0.37388426, -0.01387319, -0.32966745], dtype=float32), 1.0, False, False, {})\n",
      "(array([ 0.07072201,  0.17896253, -0.02046654, -0.04139156], dtype=float32), 1.0, False, False, {})\n",
      "(array([ 0.07072201,  0.17896253, -0.02046654, -0.04139156], dtype=float32), 1.0, False, False, {})\n",
      "(array([ 0.07430126,  0.3743719 , -0.02129437, -0.34046096], dtype=float32), 1.0, False, False, {})\n",
      "(array([ 0.07430126,  0.3743719 , -0.02129437, -0.34046096], dtype=float32), 1.0, False, False, {})\n",
      "(array([ 0.0817887 ,  0.17955929, -0.02810359, -0.0545684 ], dtype=float32), 1.0, False, False, {})\n",
      "(array([ 0.0817887 ,  0.17955929, -0.02810359, -0.0545684 ], dtype=float32), 1.0, False, False, {})\n",
      "(array([ 0.08537988,  0.3750727 , -0.02919496, -0.35598406], dtype=float32), 1.0, False, False, {})\n",
      "(array([ 0.08537988,  0.3750727 , -0.02919496, -0.35598406], dtype=float32), 1.0, False, False, {})\n",
      "(array([ 0.09288134,  0.5705973 , -0.03631464, -0.6577281 ], dtype=float32), 1.0, False, False, {})\n",
      "(array([ 0.09288134,  0.5705973 , -0.03631464, -0.6577281 ], dtype=float32), 1.0, False, False, {})\n",
      "(array([ 0.10429329,  0.37599915, -0.0494692 , -0.37669748], dtype=float32), 1.0, False, False, {})\n",
      "(array([ 0.10429329,  0.37599915, -0.0494692 , -0.37669748], dtype=float32), 1.0, False, False, {})\n",
      "(array([ 0.11181327,  0.18161345, -0.05700315, -0.10001362], dtype=float32), 1.0, False, False, {})\n",
      "(array([ 0.11181327,  0.18161345, -0.05700315, -0.10001362], dtype=float32), 1.0, False, False, {})\n",
      "(array([ 0.11544554, -0.01264719, -0.05900342,  0.17415419], dtype=float32), 1.0, False, False, {})\n",
      "(array([ 0.11544554, -0.01264719, -0.05900342,  0.17415419], dtype=float32), 1.0, False, False, {})\n",
      "(array([ 0.11519259,  0.1832674 , -0.05552034, -0.13654324], dtype=float32), 1.0, False, False, {})\n",
      "(array([ 0.11519259,  0.1832674 , -0.05552034, -0.13654324], dtype=float32), 1.0, False, False, {})\n",
      "(array([ 0.11885794, -0.01101718, -0.0582512 ,  0.13811998], dtype=float32), 1.0, False, False, {})\n",
      "(array([ 0.11885794, -0.01101718, -0.0582512 ,  0.13811998], dtype=float32), 1.0, False, False, {})\n",
      "(array([ 0.1186376 ,  0.18488863, -0.05548881, -0.17235647], dtype=float32), 1.0, False, False, {})\n",
      "(array([ 0.1186376 ,  0.18488863, -0.05548881, -0.17235647], dtype=float32), 1.0, False, False, {})\n",
      "(array([ 0.12233537,  0.38075903, -0.05893593, -0.48201525], dtype=float32), 1.0, False, False, {})\n",
      "(array([ 0.12233537,  0.38075903, -0.05893593, -0.48201525], dtype=float32), 1.0, False, False, {})\n",
      "(array([ 0.12995055,  0.57666117, -0.06857624, -0.7926754 ], dtype=float32), 1.0, False, False, {})\n",
      "(array([ 0.12995055,  0.57666117, -0.06857624, -0.7926754 ], dtype=float32), 1.0, False, False, {})\n",
      "(array([ 0.14148377,  0.7726542 , -0.08442975, -1.1061195 ], dtype=float32), 1.0, False, False, {})\n",
      "(array([ 0.14148377,  0.7726542 , -0.08442975, -1.1061195 ], dtype=float32), 1.0, False, False, {})\n",
      "(array([ 0.15693685,  0.5787376 , -0.10655214, -0.84107363], dtype=float32), 1.0, False, False, {})\n",
      "(array([ 0.15693685,  0.5787376 , -0.10655214, -0.84107363], dtype=float32), 1.0, False, False, {})\n",
      "(array([ 0.16851161,  0.38521898, -0.12337361, -0.583709  ], dtype=float32), 1.0, False, False, {})\n",
      "(array([ 0.16851161,  0.38521898, -0.12337361, -0.583709  ], dtype=float32), 1.0, False, False, {})\n",
      "(array([ 0.17621599,  0.5818336 , -0.1350478 , -0.9125692 ], dtype=float32), 1.0, False, False, {})\n",
      "(array([ 0.17621599,  0.5818336 , -0.1350478 , -0.9125692 ], dtype=float32), 1.0, False, False, {})\n",
      "(array([ 0.18785267,  0.38877165, -0.15329917, -0.66519654], dtype=float32), 1.0, False, False, {})\n",
      "(array([ 0.18785267,  0.38877165, -0.15329917, -0.66519654], dtype=float32), 1.0, False, False, {})\n",
      "(array([ 0.19562809,  0.58565605, -0.1666031 , -1.0019534 ], dtype=float32), 1.0, False, False, {})\n",
      "(array([ 0.19562809,  0.58565605, -0.1666031 , -1.0019534 ], dtype=float32), 1.0, False, False, {})\n",
      "(array([ 0.20734121,  0.7825647 , -0.18664217, -1.3419816 ], dtype=float32), 1.0, False, False, {})\n",
      "(array([ 0.20734121,  0.7825647 , -0.18664217, -1.3419816 ], dtype=float32), 1.0, False, False, {})\n",
      "(array([ 0.22299251,  0.59021634, -0.2134818 , -1.1130247 ], dtype=float32), 1.0, True, False, {})\n",
      "(array([ 0.22299251,  0.59021634, -0.2134818 , -1.1130247 ], dtype=float32), 1.0, True, False, {})\n"
     ]
    }
   ],
   "source": [
    "for _ in range(2):\n",
    "    agt = Agent(gym.make(\"CartPole-v1\"), Logger())\n",
    "    agt.run()"
   ]
  },
  {
   "cell_type": "markdown",
   "metadata": {},
   "source": [
    "# Analysing data\n",
    "\n",
    "Q-learning requires discrete states from the environment, however, the Cartpole problem provides states that are continuous.\n",
    "\n",
    "\n",
    "We can approach this by creating discrete steps in the environment. While this can be done through trial & error by making intuitive guesses on the different states, a more calculative approach will be to use machine learning to create clusters (\"buckets\") to be used as our steps."
   ]
  },
  {
   "cell_type": "code",
   "execution_count": 128,
   "outputs": [
    {
     "data": {
      "text/plain": "       cartPos   cartVel   poleAngle   poleVel   reward   done  idkwhatthisis  \\\n0     0.024236  0.191275    0.003320 -0.287982      1.0  False          False   \n1     0.028062 -0.003895   -0.002439  0.005746      1.0  False          False   \n2     0.027984  0.191262   -0.002324 -0.287706      1.0  False          False   \n3     0.031809 -0.003826   -0.008079  0.004243      1.0  False          False   \n4     0.031733  0.191410   -0.007994 -0.290978      1.0  False          False   \n...        ...       ...         ...       ...      ...    ...            ...   \n4893  0.176216  0.581834   -0.135048 -0.912569      1.0  False          False   \n4894  0.187853  0.388772   -0.153299 -0.665197      1.0  False          False   \n4895  0.195628  0.585656   -0.166603 -1.001953      1.0  False          False   \n4896  0.207341  0.782565   -0.186642 -1.341982      1.0  False          False   \n4897  0.222993  0.590216   -0.213482 -1.113025      1.0   True          False   \n\n      totalReward  action  \n0             1.0       1  \n1             2.0       0  \n2             3.0       1  \n3             4.0       0  \n4             5.0       1  \n...           ...     ...  \n4893         33.0       1  \n4894         34.0       0  \n4895         35.0       1  \n4896         36.0       1  \n4897         36.0       0  \n\n[4898 rows x 9 columns]",
      "text/html": "<div>\n<style scoped>\n    .dataframe tbody tr th:only-of-type {\n        vertical-align: middle;\n    }\n\n    .dataframe tbody tr th {\n        vertical-align: top;\n    }\n\n    .dataframe thead th {\n        text-align: right;\n    }\n</style>\n<table border=\"1\" class=\"dataframe\">\n  <thead>\n    <tr style=\"text-align: right;\">\n      <th></th>\n      <th>cartPos</th>\n      <th>cartVel</th>\n      <th>poleAngle</th>\n      <th>poleVel</th>\n      <th>reward</th>\n      <th>done</th>\n      <th>idkwhatthisis</th>\n      <th>totalReward</th>\n      <th>action</th>\n    </tr>\n  </thead>\n  <tbody>\n    <tr>\n      <th>0</th>\n      <td>0.024236</td>\n      <td>0.191275</td>\n      <td>0.003320</td>\n      <td>-0.287982</td>\n      <td>1.0</td>\n      <td>False</td>\n      <td>False</td>\n      <td>1.0</td>\n      <td>1</td>\n    </tr>\n    <tr>\n      <th>1</th>\n      <td>0.028062</td>\n      <td>-0.003895</td>\n      <td>-0.002439</td>\n      <td>0.005746</td>\n      <td>1.0</td>\n      <td>False</td>\n      <td>False</td>\n      <td>2.0</td>\n      <td>0</td>\n    </tr>\n    <tr>\n      <th>2</th>\n      <td>0.027984</td>\n      <td>0.191262</td>\n      <td>-0.002324</td>\n      <td>-0.287706</td>\n      <td>1.0</td>\n      <td>False</td>\n      <td>False</td>\n      <td>3.0</td>\n      <td>1</td>\n    </tr>\n    <tr>\n      <th>3</th>\n      <td>0.031809</td>\n      <td>-0.003826</td>\n      <td>-0.008079</td>\n      <td>0.004243</td>\n      <td>1.0</td>\n      <td>False</td>\n      <td>False</td>\n      <td>4.0</td>\n      <td>0</td>\n    </tr>\n    <tr>\n      <th>4</th>\n      <td>0.031733</td>\n      <td>0.191410</td>\n      <td>-0.007994</td>\n      <td>-0.290978</td>\n      <td>1.0</td>\n      <td>False</td>\n      <td>False</td>\n      <td>5.0</td>\n      <td>1</td>\n    </tr>\n    <tr>\n      <th>...</th>\n      <td>...</td>\n      <td>...</td>\n      <td>...</td>\n      <td>...</td>\n      <td>...</td>\n      <td>...</td>\n      <td>...</td>\n      <td>...</td>\n      <td>...</td>\n    </tr>\n    <tr>\n      <th>4893</th>\n      <td>0.176216</td>\n      <td>0.581834</td>\n      <td>-0.135048</td>\n      <td>-0.912569</td>\n      <td>1.0</td>\n      <td>False</td>\n      <td>False</td>\n      <td>33.0</td>\n      <td>1</td>\n    </tr>\n    <tr>\n      <th>4894</th>\n      <td>0.187853</td>\n      <td>0.388772</td>\n      <td>-0.153299</td>\n      <td>-0.665197</td>\n      <td>1.0</td>\n      <td>False</td>\n      <td>False</td>\n      <td>34.0</td>\n      <td>0</td>\n    </tr>\n    <tr>\n      <th>4895</th>\n      <td>0.195628</td>\n      <td>0.585656</td>\n      <td>-0.166603</td>\n      <td>-1.001953</td>\n      <td>1.0</td>\n      <td>False</td>\n      <td>False</td>\n      <td>35.0</td>\n      <td>1</td>\n    </tr>\n    <tr>\n      <th>4896</th>\n      <td>0.207341</td>\n      <td>0.782565</td>\n      <td>-0.186642</td>\n      <td>-1.341982</td>\n      <td>1.0</td>\n      <td>False</td>\n      <td>False</td>\n      <td>36.0</td>\n      <td>1</td>\n    </tr>\n    <tr>\n      <th>4897</th>\n      <td>0.222993</td>\n      <td>0.590216</td>\n      <td>-0.213482</td>\n      <td>-1.113025</td>\n      <td>1.0</td>\n      <td>True</td>\n      <td>False</td>\n      <td>36.0</td>\n      <td>0</td>\n    </tr>\n  </tbody>\n</table>\n<p>4898 rows × 9 columns</p>\n</div>"
     },
     "execution_count": 128,
     "metadata": {},
     "output_type": "execute_result"
    }
   ],
   "source": [
    "### Importing data\n",
    "\n",
    "rawData = pd.read_csv('./data.csv')\n",
    "rawData"
   ],
   "metadata": {
    "collapsed": false
   }
  },
  {
   "cell_type": "markdown",
   "source": [
    "## Clustering Approach\n",
    "\n",
    "We can consider a few different buckets that can be derived from our data.\n",
    "* Clustering purely from observations.\n",
    "* Clustering based on observations and action done.\n",
    "\n",
    "Furthermore, there are a handful of methods we can use to cluster our data for prediction.\n",
    "* k-means (requires configured number of clusters)\n",
    "* Affinity propagation\n",
    "* Mean-shift"
   ],
   "metadata": {
    "collapsed": false
   }
  },
  {
   "cell_type": "code",
   "execution_count": null,
   "outputs": [],
   "source": [
    "obsvData ="
   ],
   "metadata": {
    "collapsed": false
   }
  }
 ],
 "metadata": {
  "kernelspec": {
   "display_name": "Python 3 (ipykernel)",
   "language": "python",
   "name": "python3"
  },
  "language_info": {
   "codemirror_mode": {
    "name": "ipython",
    "version": 3
   },
   "file_extension": ".py",
   "mimetype": "text/x-python",
   "name": "python",
   "nbconvert_exporter": "python",
   "pygments_lexer": "ipython3",
   "version": "3.9.7"
  }
 },
 "nbformat": 4,
 "nbformat_minor": 1
}
